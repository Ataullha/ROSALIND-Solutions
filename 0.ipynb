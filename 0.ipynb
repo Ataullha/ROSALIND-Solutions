{
 "cells": [
  {
   "cell_type": "code",
   "execution_count": 14,
   "metadata": {},
   "outputs": [
    {
     "name": "stdout",
     "output_type": "stream",
     "text": [
      "KP644081.1: 2\n"
     ]
    }
   ],
   "source": [
    "from Bio import SeqIO\n",
    "from Bio import Seq\n",
    "\n",
    "def reverse_complement(s):\n",
    "    return str(Seq.Seq(s).reverse_complement())\n",
    "\n",
    "records = SeqIO.parse(\"./TestSeq1.fasta\", \"fasta\")\n",
    "s = 'ACGT'\n",
    "\n",
    "for record in records:\n",
    "    cnt = record.seq.count(s)+record.seq.count(reverse_complement(s))\n",
    "    if cnt:\n",
    "        print(record.id,end=': ')\n",
    "        print(cnt)"
   ]
  }
 ],
 "metadata": {
  "kernelspec": {
   "display_name": "Python 3",
   "language": "python",
   "name": "python3"
  },
  "language_info": {
   "codemirror_mode": {
    "name": "ipython",
    "version": 3
   },
   "file_extension": ".py",
   "mimetype": "text/x-python",
   "name": "python",
   "nbconvert_exporter": "python",
   "pygments_lexer": "ipython3",
   "version": "3.10.12"
  }
 },
 "nbformat": 4,
 "nbformat_minor": 2
}
