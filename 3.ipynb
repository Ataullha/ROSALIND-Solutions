{
 "cells": [
  {
   "cell_type": "markdown",
   "metadata": {},
   "source": [
    "# BA3E - Construct the De Bruijn Graph of a Collection of k-mers"
   ]
  },
  {
   "cell_type": "code",
   "execution_count": 5,
   "metadata": {},
   "outputs": [
    {
     "name": "stdout",
     "output_type": "stream",
     "text": [
      "GAG -> AGG\n",
      "CAG -> AGG,AGG\n",
      "GGG -> GGG,GGA\n",
      "AGG -> GGG\n",
      "GGA -> GAG\n"
     ]
    }
   ],
   "source": [
    "def ba3e(kmers):\n",
    "    kmers=kmers.split('\\n')\n",
    "    m = {}\n",
    "    for seq in kmers:\n",
    "        if seq[:-1] not in m:\n",
    "            m[seq[:-1]]=[]\n",
    "        m[seq[:-1]].append(seq[1:])\n",
    "    for k,v in zip(m.keys(),m.values()):\n",
    "        print(k,end=' -> ')\n",
    "        for i in v[:-1]:\n",
    "            print(i,end=',')\n",
    "        print(v[-1])\n",
    "\n",
    "kmers = '''GAGG\n",
    "CAGG\n",
    "GGGG\n",
    "GGGA\n",
    "CAGG\n",
    "AGGG\n",
    "GGAG'''\n",
    "\n",
    "ba3e(kmers)"
   ]
  },
  {
   "cell_type": "markdown",
   "metadata": {},
   "source": [
    "# BA3G - Find an Eulerian Path in a Graph"
   ]
  },
  {
   "cell_type": "code",
   "execution_count": 34,
   "metadata": {},
   "outputs": [
    {
     "name": "stdout",
     "output_type": "stream",
     "text": [
      "6->7->8->9->6->3->0->2->1->3->4\n"
     ]
    }
   ],
   "source": [
    "from collections import defaultdict\n",
    "\n",
    "def ba3g(graph):\n",
    "    no=[]\n",
    "    for node in graph:\n",
    "        for neighbour in graph[node]:\n",
    "            if neighbour not in graph:\n",
    "                no.append(neighbour)\n",
    "    for i in no:\n",
    "        graph[i]=[]\n",
    "                \n",
    "    in_deg=defaultdict(int)\n",
    "    out_deg=defaultdict(int)\n",
    "\n",
    "    for node in graph:\n",
    "        out_deg[node]=len(graph[node])\n",
    "    for node in graph:\n",
    "        for neighbour in graph[node]:\n",
    "            in_deg[neighbour]+=1\n",
    "    start_node=graph[0]\n",
    "    for node in graph:\n",
    "        if in_deg[node]+1==out_deg[node]:\n",
    "            start_node=node\n",
    "    # end_node=None\n",
    "    # for node in graph:\n",
    "    #     if out_deg[node]+1==in_deg[node]:\n",
    "    #         end_node=node\n",
    "    path = []\n",
    "    def visit(node):\n",
    "        while graph[node]:\n",
    "            visit(graph[node].pop())\n",
    "        path.append(node)\n",
    "    visit(start_node)\n",
    "    path=path[::-1]\n",
    "    for node in path[:-1]:\n",
    "        print(node,end='->')\n",
    "    print(path[-1])\n",
    "\n",
    "    # print(start_node,end_node)\n",
    "\n",
    "    \n",
    "\n",
    "graph = {\n",
    "    0:[2],\n",
    "    1:[3],\n",
    "    2:[1],\n",
    "    3:[0,4],\n",
    "    6:[3,7],\n",
    "    7:[8],\n",
    "    8:[9],\n",
    "    9:[6]\n",
    "}\n",
    "\n",
    "ba3g(graph)"
   ]
  },
  {
   "cell_type": "code",
   "execution_count": 40,
   "metadata": {},
   "outputs": [
    {
     "data": {
      "text/plain": [
       "True"
      ]
     },
     "execution_count": 40,
     "metadata": {},
     "output_type": "execute_result"
    }
   ],
   "source": [
    "from collections import defaultdict\n",
    "\n",
    "def ba3g(graph):\n",
    "    no=[]\n",
    "    for node in graph:\n",
    "        for neighbour in graph[node]:\n",
    "            if neighbour not in graph:\n",
    "                no.append(neighbour)\n",
    "    for i in no:\n",
    "        graph[i]=[]     \n",
    "    in_deg=defaultdict(int)\n",
    "    out_deg=defaultdict(int)\n",
    "    for node in graph:\n",
    "        out_deg[node]=len(graph[node])\n",
    "    for node in graph:\n",
    "        for neighbour in graph[node]:\n",
    "            in_deg[neighbour]+=1\n",
    "    start_node=0\n",
    "    end_node=0\n",
    "    for node in graph:\n",
    "        if (in_deg[node]-out_deg[node])>1:\n",
    "            return False\n",
    "        if (out_deg[node]-in_deg[node])>1:\n",
    "            return False\n",
    "        if (in_deg[node]-out_deg[node])==1:\n",
    "            end_node+=1\n",
    "        if (out_deg[node]-in_deg[node])==1:\n",
    "            start_node+=1\n",
    "    if start_node<=1 and end_node<=1:\n",
    "        return True\n",
    "    else:\n",
    "        return False\n",
    "\n",
    "graph = {\n",
    "    0:[2],\n",
    "    1:[3],\n",
    "    2:[1],\n",
    "    3:[0,4],\n",
    "    6:[3,7],\n",
    "    7:[8],\n",
    "    8:[9],\n",
    "    9:[6]\n",
    "}\n",
    "\n",
    "ba3g(graph)"
   ]
  }
 ],
 "metadata": {
  "kernelspec": {
   "display_name": "Python 3",
   "language": "python",
   "name": "python3"
  },
  "language_info": {
   "codemirror_mode": {
    "name": "ipython",
    "version": 3
   },
   "file_extension": ".py",
   "mimetype": "text/x-python",
   "name": "python",
   "nbconvert_exporter": "python",
   "pygments_lexer": "ipython3",
   "version": "3.10.12"
  }
 },
 "nbformat": 4,
 "nbformat_minor": 2
}
