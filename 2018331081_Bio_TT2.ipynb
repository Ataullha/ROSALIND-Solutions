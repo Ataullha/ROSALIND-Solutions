{
 "cells": [
  {
   "cell_type": "markdown",
   "metadata": {},
   "source": [
    "# BA2B Find a Median String"
   ]
  },
  {
   "cell_type": "code",
   "execution_count": 1,
   "metadata": {},
   "outputs": [
    {
     "name": "stdout",
     "output_type": "stream",
     "text": [
      "CTAAAT\n"
     ]
    }
   ],
   "source": [
    "def hamming_distance(s,t):\n",
    "    cnt = 0\n",
    "    for i,j in zip(s,t):\n",
    "        cnt += (i!=j)\n",
    "    return cnt\n",
    "\n",
    "def minimum(kmer,dna,k):\n",
    "    score = 0\n",
    "    for seq in dna:\n",
    "        mini = float('inf')\n",
    "        for i in range(len(seq)-k+1):\n",
    "            mini = min(mini,hamming_distance(kmer,seq[i:i+k]))\n",
    "        score += mini\n",
    "    return score\n",
    "\n",
    "def ba2b(dna,k):\n",
    "    dna = dna.split('\\n')\n",
    "    m = {}\n",
    "    for seq in dna:\n",
    "        for i in range(len(dna)-k+1):\n",
    "            m[seq[i:i+k]] = minimum(seq[i:i+k],dna,k)\n",
    "    ans = ''\n",
    "    mini = float('inf')\n",
    "    for k,v in zip(m.keys(),m.values()):\n",
    "        if mini>v:\n",
    "            mini = v\n",
    "            ans = k\n",
    "    return ans\n",
    "\n",
    "\n",
    "k = 6\n",
    "\n",
    "dna = '''GTGAATCTATATGGAGTACTCTACGTGGGGAACCGGTGGTGC\n",
    "CTAAATCAGATCGGACGGATCGTTATGTCAGACTCAACCTGT\n",
    "CTAGCAGCGCATCTAAATGCCACACCTACCATAATCTTTACA\n",
    "AAGGCCCATTAGCTATATTTGTCTTGGTATAGGCGCTAGAAT\n",
    "CGCAACCTATATCCTCACGATTTTAAAATTACCGATACCGCG\n",
    "TATGATCGCAGCCTATATATATTCCAGCGTGCCTTCAATAGG\n",
    "CTAAATTTCTCTTAGCAATGGCACTTCGAGCACGCTTCGTTG\n",
    "ACACCACGGTGGAATCGTTCGCGTCTAAATTTCAGACGATAG\n",
    "CATTCCCCATCCACCCCCCTAGATCCAAAAGCCAGTACTCTA\n",
    "GTAACCCTAAATTTTCAGTAAATCAGCGTGGGACAATGACGG'''\n",
    "\n",
    "print(ba2b(dna,k))"
   ]
  },
  {
   "cell_type": "markdown",
   "metadata": {},
   "source": [
    "# BA2C Find a Profile-most Probable k-mer in a String"
   ]
  },
  {
   "cell_type": "code",
   "execution_count": 2,
   "metadata": {},
   "outputs": [
    {
     "name": "stdout",
     "output_type": "stream",
     "text": [
      "CCGAG\n"
     ]
    }
   ],
   "source": [
    "def probability(kmer,pm):\n",
    "    pro = 1\n",
    "    for i in range(len(kmer)):\n",
    "        pro *= pm[kmer[i]][i]\n",
    "    return pro\n",
    "\n",
    "def ba2c(dna,k,profile_matrix):\n",
    "    best_pro = -1*float('inf')\n",
    "    for i in range(len(dna)-k+1):\n",
    "        pro = probability(dna[i:i+k],profile_matrix)\n",
    "        if pro>best_pro:\n",
    "            best_pro = pro\n",
    "            ans = dna[i:i+k]\n",
    "    return ans\n",
    "\n",
    "dna = 'ACCTGTTTATTGCCTAAGTTCCGAACAAACCCAATATAGCCCGAGGGCCT'\n",
    "k = 5\n",
    "m = '''0.2 0.2 0.3 0.2 0.3\n",
    "0.4 0.3 0.1 0.5 0.1\n",
    "0.3 0.3 0.5 0.2 0.4\n",
    "0.1 0.2 0.1 0.1 0.2'''\n",
    "\n",
    "m = m.split('\\n')\n",
    "profile_matrix={\n",
    "    'A':[float(i) for i in m[0].split(' ')],\n",
    "    'C':[float(i) for i in m[1].split(' ')],\n",
    "    'G':[float(i) for i in m[2].split(' ')],\n",
    "    'T':[float(i) for i in m[3].split(' ')],\n",
    "}\n",
    "\n",
    "print(ba2c(dna,k,profile_matrix))"
   ]
  },
  {
   "cell_type": "markdown",
   "metadata": {},
   "source": [
    "# BA2F Implement RandomizedMotifSearch"
   ]
  },
  {
   "cell_type": "code",
   "execution_count": 3,
   "metadata": {},
   "outputs": [
    {
     "name": "stdout",
     "output_type": "stream",
     "text": [
      "TCTCGGGG\n",
      "CCAAGGTG\n",
      "TACAGGCG\n",
      "TTCAGGTG\n",
      "TCCACGTG\n"
     ]
    }
   ],
   "source": [
    "import random\n",
    "\n",
    "def probability(kmer,pm,k):\n",
    "    pro = 1\n",
    "    for i in range(len(kmer)):\n",
    "        pro *= pm[kmer[i]][i]\n",
    "    return pro\n",
    "\n",
    "def update_kmers(kmers,dna,k,pm):\n",
    "    update = []\n",
    "    for seq in dna:\n",
    "        max_pro = -1*float('inf')\n",
    "        ans = ''\n",
    "        for i in range(len(seq)-k+1):\n",
    "            pro = probability(seq[i:i+k],pm,k)\n",
    "            if pro>max_pro:\n",
    "                max_pro = pro\n",
    "                ans = seq[i:i+k]\n",
    "        update.append(ans)\n",
    "    return update\n",
    "\n",
    "def profile_matrix(kmers,k):\n",
    "    pm = {\n",
    "        'A':[1/4]*k,\n",
    "        'C':[1/4]*k,\n",
    "        'G':[1/4]*k,\n",
    "        'T':[1/4]*k\n",
    "    }\n",
    "    for kmer in kmers:\n",
    "        for i in range(len(kmer)):\n",
    "            pm[kmer[i]][i] += 1/len(kmers)\n",
    "    return pm\n",
    "\n",
    "def score(kmers,k):\n",
    "    score = 0\n",
    "    for i in range(k):\n",
    "        l = [j[i] for j in kmers]\n",
    "        score += len(l)-max(l.count('A'),l.count('C'),l.count('G'),l.count('T'))\n",
    "    return score\n",
    "\n",
    "def ba2f(dna,k,n):\n",
    "    final_list = []\n",
    "    dna = dna.split('\\n')\n",
    "    for i in range(1001):\n",
    "        kmers = []\n",
    "        for seq in dna:\n",
    "            # print(seq)\n",
    "            i = random.choice(range(k))\n",
    "            kmers.append(seq[i:i+k])\n",
    "        min_score = float('inf')\n",
    "        res = ''\n",
    "        while True:\n",
    "            pm = profile_matrix(kmers,k)\n",
    "            kmers = update_kmers(kmers,dna,k,pm)\n",
    "            sc = score(kmers,k)\n",
    "            if sc<min_score:\n",
    "                min_score=sc\n",
    "                res = kmers\n",
    "            else:\n",
    "                final_list.append((res,min_score))\n",
    "                break\n",
    "    min_v = float('inf')\n",
    "    answer = ''\n",
    "    for i in final_list:\n",
    "        if i[1]<min_v:\n",
    "            min_v = i[1]\n",
    "            answer = i[0]\n",
    "    return answer\n",
    "\n",
    "k = 8\n",
    "n = 5\n",
    "dna = '''CGCCCCTCTCGGGGGTGTTCAGTAAACGGCCA\n",
    "GGGCGAGGTATGTGTAAGTGCCAAGGTGCCAG\n",
    "TAGTACCGAGACCGAAAGAAGTATACAGGCGT\n",
    "TAGATCAAGTTTCAGGTGCACGTCGGTGAACC\n",
    "AATCCACCAGCTCCACGTGCAATGTTGGCCTA'''\n",
    "\n",
    "for i in ba2f(dna,k,n):\n",
    "    print(i)"
   ]
  },
  {
   "cell_type": "markdown",
   "metadata": {},
   "source": [
    "# BA2H Implement DistanceBetweenPatternAndStrings"
   ]
  },
  {
   "cell_type": "code",
   "execution_count": 4,
   "metadata": {},
   "outputs": [
    {
     "data": {
      "text/plain": [
       "5"
      ]
     },
     "execution_count": 4,
     "metadata": {},
     "output_type": "execute_result"
    }
   ],
   "source": [
    "def hamming_distance(s,t):\n",
    "    cnt = 0\n",
    "    for i,j in zip(s,t):\n",
    "        cnt += (i!=j)\n",
    "    return cnt\n",
    "\n",
    "def ba2h(kmer,dna):\n",
    "    score = 0\n",
    "    dna = dna.split(' ')\n",
    "    k = len(kmer)\n",
    "    for seq in dna:\n",
    "        mini = float('inf')\n",
    "        for i in range(len(seq)-k+1):\n",
    "            # print(seq[i:i+k])\n",
    "            mini = min(mini,hamming_distance(kmer,seq[i:i+k]))\n",
    "        score += mini\n",
    "    return score\n",
    "\n",
    "\n",
    "kmer = 'AAA'\n",
    "dna = 'TTACCTTAAC GATATCTGTC ACGGCGTTCG CCCTAAAGAG CGTCAGAGGT'\n",
    "\n",
    "ba2h(kmer,dna)"
   ]
  },
  {
   "cell_type": "markdown",
   "metadata": {},
   "source": [
    "# BA3E Construct the De Bruijn Graph of a Collection of k-mers"
   ]
  },
  {
   "cell_type": "code",
   "execution_count": 5,
   "metadata": {},
   "outputs": [
    {
     "name": "stdout",
     "output_type": "stream",
     "text": [
      "GAG -> AGG\n",
      "CAG -> AGG,AGG\n",
      "GGG -> GGG,GGA\n",
      "AGG -> GGG\n",
      "GGA -> GAG\n"
     ]
    }
   ],
   "source": [
    "def ba3e(kmers):\n",
    "    kmers = kmers.split('\\n')\n",
    "    m = {}\n",
    "    for s in kmers:\n",
    "        if s[:-1] not in m:\n",
    "            m[s[:-1]] = []\n",
    "        m[s[:-1]].append(s[1:])\n",
    "    for k,v in zip(m.keys(),m.values()):\n",
    "        print(k,end=' -> ')\n",
    "        for i in v[:-1]:\n",
    "            print(i,end=',')\n",
    "        print(v[-1])\n",
    "\n",
    "kmers = '''GAGG\n",
    "CAGG\n",
    "GGGG\n",
    "GGGA\n",
    "CAGG\n",
    "AGGG\n",
    "GGAG'''\n",
    "\n",
    "ba3e(kmers)"
   ]
  },
  {
   "cell_type": "markdown",
   "metadata": {},
   "source": [
    "# BA3G Find an Eulerian Path in a Graph"
   ]
  },
  {
   "cell_type": "code",
   "execution_count": 6,
   "metadata": {},
   "outputs": [
    {
     "name": "stdout",
     "output_type": "stream",
     "text": [
      "6->7->8->9->6->3->0->2->1->3->4\n"
     ]
    }
   ],
   "source": [
    "from collections import defaultdict\n",
    "\n",
    "def ba3g(graph):\n",
    "    in_deg = defaultdict(int)\n",
    "    out_deg = defaultdict(int)\n",
    "    for node in graph:\n",
    "        out_deg[node] = len(graph[node])\n",
    "    # print(out_deg)\n",
    "    for node in graph:\n",
    "        for neighbour in graph[node]:\n",
    "            in_deg[neighbour]+=1\n",
    "    # print(in_deg)\n",
    "    start_node = graph[0]\n",
    "    for node in graph:\n",
    "        if in_deg[node]+1==out_deg[node]:\n",
    "            start_node=node\n",
    "    # print(start_node)\n",
    "    def visit(node):\n",
    "        while(graph[node]):\n",
    "            visit(graph[node].pop())\n",
    "        path.append(node)\n",
    "    path = []\n",
    "    visit(start_node)\n",
    "    path = path[::-1]\n",
    "    # print(path)\n",
    "    for i in path[:-1]:\n",
    "        print(i,end='->')\n",
    "    print(path[-1])\n",
    "    \n",
    "graph = {\n",
    "    0:[2],\n",
    "    1:[3],\n",
    "    2:[1],\n",
    "    3:[0,4],\n",
    "    4:[],\n",
    "    6:[3,7],\n",
    "    7:[8],\n",
    "    8:[9],\n",
    "    9:[6]\n",
    "}\n",
    "\n",
    "ba3g(graph)"
   ]
  },
  {
   "cell_type": "markdown",
   "metadata": {},
   "source": [
    "# BA4B Find Substrings of a Genome Encoding a Given Amino Acid String"
   ]
  },
  {
   "cell_type": "code",
   "execution_count": 7,
   "metadata": {},
   "outputs": [
    {
     "name": "stdout",
     "output_type": "stream",
     "text": [
      "ATGGCC\n",
      "GGCCAT\n",
      "ATGGCC\n"
     ]
    }
   ],
   "source": [
    "\n",
    "from Bio import Seq\n",
    "\n",
    "def ba4b(dna,peptide):\n",
    "    k = len(peptide)*3\n",
    "    for i in range(len(dna)-k+1):\n",
    "        s = Seq.Seq(dna[i:i+k]).transcribe().translate()\n",
    "        t = Seq.Seq(dna[i:i+k]).reverse_complement().transcribe().translate()\n",
    "        if s==peptide or t==peptide:\n",
    "            print(dna[i:i+k])\n",
    "\n",
    "dna = 'ATGGCCATGGCCCCCAGAACTGAGATCAATAGTACCCGTATTAACGGGTGA'\n",
    "peptide = 'MA'\n",
    "\n",
    "ba4b(dna,peptide)"
   ]
  },
  {
   "cell_type": "markdown",
   "metadata": {},
   "source": [
    "# BA4C Generate the Theoretical Spectrum of a Cyclic Peptide"
   ]
  },
  {
   "cell_type": "code",
   "execution_count": 8,
   "metadata": {},
   "outputs": [
    {
     "name": "stdout",
     "output_type": "stream",
     "text": [
      "0 113 114 128 129 227 242 242 257 355 356 370 371 484 "
     ]
    }
   ],
   "source": [
    "def ba4c(peptide):\n",
    "    ans = []\n",
    "    apss = []\n",
    "    pep = peptide+peptide\n",
    "    for k in range(1,len(peptide)):\n",
    "        for i in range(len(peptide)):\n",
    "            apss.append(pep[i:i+k])\n",
    "    apss.append(peptide)\n",
    "    m = {\n",
    "        'G':57,'A':71,'S':81,'P':97,'V':99,'T':101,'C':103,'I':113,'L':113,'N':114,'D':115,\n",
    "        'K':128,'Q':128,'E':129,'M':131,'H':137,'F':147,'R':156,'Y':163,'W':186\n",
    "    }\n",
    "    # print(m.values())\n",
    "    for s in apss:\n",
    "        cnt = 0\n",
    "        for i in s:\n",
    "            cnt+=m[i]\n",
    "        ans.append(cnt)\n",
    "    ans.append(0)\n",
    "    return sorted(ans)\n",
    "\n",
    "peptide = 'LEQN'\n",
    "for i in ba4c(peptide):\n",
    "    print(i,end=' ')"
   ]
  },
  {
   "cell_type": "markdown",
   "metadata": {},
   "source": [
    "# BA4D Compute the Number of Peptides of Given Total Mass"
   ]
  },
  {
   "cell_type": "code",
   "execution_count": 2,
   "metadata": {},
   "outputs": [
    {
     "data": {
      "text/plain": [
       "18921682231"
      ]
     },
     "execution_count": 2,
     "metadata": {},
     "output_type": "execute_result"
    }
   ],
   "source": [
    "mass = [57, 71, 81, 97, 99, 101, 103, 113, 114, 115, 128, 129, 131, 137, 147, 156, 163, 186]\n",
    "\n",
    "def ba4d(total,m):\n",
    "    if total==0:\n",
    "        return 1\n",
    "    if m[total]!=-1:\n",
    "        return m[total]\n",
    "    sum = 0\n",
    "    for i in mass:\n",
    "        if i<= total:\n",
    "            sum += ba4d(total-i,m)\n",
    "    m[total] = sum\n",
    "    return m[total]\n",
    "        \n",
    "    \n",
    "total = 1024\n",
    "m = [-1]*(total+1)\n",
    "\n",
    "ba4d(total,m)"
   ]
  },
  {
   "cell_type": "markdown",
   "metadata": {},
   "source": [
    "# BA4E Find a Cyclic Peptide with Theoretical Spectrum Matching an Ideal Spectrum"
   ]
  },
  {
   "cell_type": "code",
   "execution_count": null,
   "metadata": {},
   "outputs": [],
   "source": []
  },
  {
   "cell_type": "markdown",
   "metadata": {},
   "source": [
    "# BA4F Compute the Score of a Cyclic Peptide Against a Spectrum"
   ]
  },
  {
   "cell_type": "code",
   "execution_count": 10,
   "metadata": {},
   "outputs": [
    {
     "data": {
      "text/plain": [
       "11"
      ]
     },
     "execution_count": 10,
     "metadata": {},
     "output_type": "execute_result"
    }
   ],
   "source": [
    "def mass(kmer):\n",
    "    m = {\n",
    "        'G':57,'A':71,'S':81,'P':97,'V':99,'T':101,'C':103,'I':113,'L':113,'N':114,'D':115,\n",
    "        'K':128,'Q':128,'E':129,'M':131,'H':137,'F':147,'R':156,'Y':163,'W':186\n",
    "    }\n",
    "    cnt = 0\n",
    "    for c in kmer:\n",
    "        cnt+=m[c]\n",
    "    return cnt\n",
    "\n",
    "def ba4f(peptide,spec):\n",
    "    ans = []\n",
    "    spec = [int(i) for i in  spec.split(' ')]\n",
    "    pep = peptide+peptide\n",
    "    for k in range(1,len(peptide)):\n",
    "        for i in range(len(pep)):\n",
    "            ans.append(mass(pep[i:i+k]))\n",
    "    ans.append(0)\n",
    "    ans.append(mass(peptide))\n",
    "    ans = sorted(ans)\n",
    "    # print(ans)\n",
    "    # print(spec)\n",
    "    res = list(set(ans+spec))\n",
    "    score = 0\n",
    "    for i in res:\n",
    "        score += min(ans.count(i),spec.count(i))\n",
    "    return score\n",
    "\n",
    "\n",
    "\n",
    "peptide = 'NQEL'\n",
    "spec = '0 99 113 114 128 227 257 299 355 356 370 371 484'\n",
    "\n",
    "ba4f(peptide,spec)"
   ]
  },
  {
   "cell_type": "markdown",
   "metadata": {},
   "source": [
    "# BA4H Generate the Convolution of a Spectrum"
   ]
  },
  {
   "cell_type": "code",
   "execution_count": 11,
   "metadata": {},
   "outputs": [
    {
     "name": "stdout",
     "output_type": "stream",
     "text": [
      "137 137 186 186 323 49 "
     ]
    }
   ],
   "source": [
    "def ba4h(spec):\n",
    "    spec = [int(i) for i in spec.split(' ')]\n",
    "    spec = sorted(spec)\n",
    "    ans = []\n",
    "    for i in range(1,len(spec)):\n",
    "        # print(spec[i:])\n",
    "        for j in spec[i:]:\n",
    "                ans.append(j-spec[i-1])\n",
    "    m = {}\n",
    "    for i in ans:\n",
    "        if i not in m:\n",
    "            m[i]=0\n",
    "        m[i]+=1\n",
    "    m = dict(sorted(m.items(), key=lambda item: item[1],reverse=True))\n",
    "    for k,v in zip(m.keys(),m.values()):\n",
    "        for i in range(v):\n",
    "                if k>0:\n",
    "                    print(k,end=' ')\n",
    "\n",
    "spec='0 137 186 323'\n",
    "ba4h(spec)"
   ]
  }
 ],
 "metadata": {
  "kernelspec": {
   "display_name": "Python 3",
   "language": "python",
   "name": "python3"
  },
  "language_info": {
   "codemirror_mode": {
    "name": "ipython",
    "version": 3
   },
   "file_extension": ".py",
   "mimetype": "text/x-python",
   "name": "python",
   "nbconvert_exporter": "python",
   "pygments_lexer": "ipython3",
   "version": "3.10.12"
  }
 },
 "nbformat": 4,
 "nbformat_minor": 2
}
