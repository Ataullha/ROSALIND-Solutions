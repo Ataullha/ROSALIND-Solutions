{
 "cells": [
  {
   "cell_type": "markdown",
   "metadata": {},
   "source": [
    "# BA5A - Find the Minimum Number of Coins Needed to Make Change"
   ]
  },
  {
   "cell_type": "code",
   "execution_count": 56,
   "metadata": {},
   "outputs": [
    {
     "data": {
      "text/plain": [
       "2"
      ]
     },
     "execution_count": 56,
     "metadata": {},
     "output_type": "execute_result"
    }
   ],
   "source": [
    "def ba5a(money,coins):\n",
    "    dp=[float('inf')]*(money+1)\n",
    "    dp[0]=0\n",
    "    for coin in coins:\n",
    "        for i in range(coin,money+1):\n",
    "            dp[i]=min(dp[i],dp[i-coin]+1)\n",
    "    return dp[money]\n",
    "\n",
    "money=40\n",
    "coins=[1,5,10,20,25,50]\n",
    "\n",
    "ba5a(money,coins)"
   ]
  },
  {
   "cell_type": "markdown",
   "metadata": {},
   "source": [
    "# BA5C - Find a Longest Common Subsequence of Two Strings"
   ]
  },
  {
   "cell_type": "code",
   "execution_count": 57,
   "metadata": {},
   "outputs": [
    {
     "name": "stdout",
     "output_type": "stream",
     "text": [
      "AACTTG\n"
     ]
    }
   ],
   "source": [
    "first = 'AACCTTGG'\n",
    "second = 'ACACTGTGA'\n",
    "\n",
    "def ba5c(l,r,dp):\n",
    "    if l>=len(first) or r>=len(second):\n",
    "        return ''\n",
    "    \n",
    "    if first[l]==second[r]:\n",
    "        return first[l]+ba5c(l+1,r+1,dp)\n",
    "    \n",
    "    if (l,r) not in dp:\n",
    "        dp[(l,r)]=''\n",
    "\n",
    "    if dp[(l,r)]!='':\n",
    "        return dp[(l,r)]\n",
    "    \n",
    "    left = ba5c(l+1,r,dp)\n",
    "    right = ba5c(l,r+1,dp)\n",
    "\n",
    "    if len(left)>len(right):\n",
    "        dp[(l,r)]=left\n",
    "        return left\n",
    "    else:\n",
    "        dp[(l,r)]=right\n",
    "        return right\n",
    "\n",
    "result = ba5c(0,0,{})\n",
    "\n",
    "print(result)"
   ]
  },
  {
   "cell_type": "markdown",
   "metadata": {},
   "source": [
    "# ba5e - Find a Highest-Scoring Alignment of Two Strings "
   ]
  },
  {
   "cell_type": "code",
   "execution_count": 180,
   "metadata": {},
   "outputs": [
    {
     "name": "stdout",
     "output_type": "stream",
     "text": [
      "8\n",
      "PLEASANTLY\n",
      "-ME--AN-LY\n"
     ]
    }
   ],
   "source": [
    "from Bio.Align import substitution_matrices\n",
    "from Bio import pairwise2\n",
    "\n",
    "s = 'PLEASANTLY'\n",
    "t = 'MEANLY'\n",
    "\n",
    "score = substitution_matrices.load('BLOSUM62')\n",
    "alignment = pairwise2.align.globalds(s,t,score,-5,-5)\n",
    "print(int(alignment[0].score))\n",
    "print(alignment[0].seqA)\n",
    "print(alignment[0].seqB)"
   ]
  },
  {
   "cell_type": "markdown",
   "metadata": {},
   "source": [
    "# ba5f - "
   ]
  },
  {
   "cell_type": "code",
   "execution_count": 181,
   "metadata": {},
   "outputs": [
    {
     "name": "stdout",
     "output_type": "stream",
     "text": [
      "15\n",
      "EANL-Y\n",
      "ENALTY\n"
     ]
    }
   ],
   "source": [
    "from Bio.Align import substitution_matrices\n",
    "from Bio import pairwise2\n",
    "\n",
    "s = 'MEANLY'\n",
    "t = 'PENALTY'\n",
    "\n",
    "score = substitution_matrices.load('PAM250')\n",
    "alignment = pairwise2.align.localds(s,t,score,-5,-5)\n",
    "print(int(alignment[0].score))\n",
    "print(str(alignment[0].seqA)[alignment[0].start:alignment[0].end])\n",
    "print(str(alignment[0].seqB)[alignment[0].start:alignment[0].end])"
   ]
  },
  {
   "cell_type": "markdown",
   "metadata": {},
   "source": [
    "# ba5g - "
   ]
  },
  {
   "cell_type": "code",
   "execution_count": 236,
   "metadata": {},
   "outputs": [
    {
     "data": {
      "text/plain": [
       "5"
      ]
     },
     "execution_count": 236,
     "metadata": {},
     "output_type": "execute_result"
    }
   ],
   "source": [
    "def ba5g(s,t):\n",
    "    dp = [[float('inf') for i in range(len(s)+len(t))] for j in range(len(s)+len(t))]\n",
    "    dp[0]=[i for i in range(len(s)+len(t))]\n",
    "    for i in range(len(dp)):\n",
    "        dp[i][0]=i\n",
    "    # return dp\n",
    "    for i in range(1,len(s)+1):\n",
    "        for j in range(1,len(t)+1):\n",
    "            if s[i-1]==t[j-1]:\n",
    "                dp[i][j]=min(dp[i-1][j-1],dp[i-1][j]+1,dp[i][j-1]+1)\n",
    "            else:\n",
    "                dp[i][j]=min(dp[i-1][j-1]+1,dp[i-1][j]+1,dp[i][j-1]+1)\n",
    "    return dp[len(s)][len(t)]\n",
    "\n",
    "s = 'PLEASANTLY'\n",
    "t = 'MEANLY'\n",
    "\n",
    "ba5g(s,t)"
   ]
  },
  {
   "cell_type": "code",
   "execution_count": null,
   "metadata": {},
   "outputs": [],
   "source": []
  }
 ],
 "metadata": {
  "kernelspec": {
   "display_name": "Python 3",
   "language": "python",
   "name": "python3"
  },
  "language_info": {
   "codemirror_mode": {
    "name": "ipython",
    "version": 3
   },
   "file_extension": ".py",
   "mimetype": "text/x-python",
   "name": "python",
   "nbconvert_exporter": "python",
   "pygments_lexer": "ipython3",
   "version": "3.10.12"
  }
 },
 "nbformat": 4,
 "nbformat_minor": 2
}
