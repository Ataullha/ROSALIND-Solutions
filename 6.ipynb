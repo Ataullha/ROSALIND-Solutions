{
 "cells": [
  {
   "cell_type": "markdown",
   "metadata": {},
   "source": [
    "# BA6B - Compute the Number of Breakpoints in a Permutation"
   ]
  },
  {
   "cell_type": "code",
   "execution_count": 4,
   "metadata": {},
   "outputs": [
    {
     "data": {
      "text/plain": [
       "8"
      ]
     },
     "execution_count": 4,
     "metadata": {},
     "output_type": "execute_result"
    }
   ],
   "source": [
    "def ba6b(perm):\n",
    "    cnt=0\n",
    "    perm=[int(i) for i in perm[1:-1].split(' ')]\n",
    "    perm = [0]+perm+[max(perm)+1]\n",
    "    for i in range(1,len(perm)):\n",
    "        if perm[i-1]+1!=perm[i]:\n",
    "            cnt+=1\n",
    "    return cnt\n",
    "\n",
    "perm = '(+3 +4 +5 -12 -8 -7 -6 +1 +2 +10 +9 -11 +13 +14)'\n",
    "ba6b(perm)"
   ]
  },
  {
   "cell_type": "markdown",
   "metadata": {},
   "source": [
    "# BA6E - Find All Shared k-mers of a Pair of Strings"
   ]
  },
  {
   "cell_type": "code",
   "execution_count": 130,
   "metadata": {},
   "outputs": [
    {
     "name": "stdout",
     "output_type": "stream",
     "text": [
      "0 0\n",
      "0 4\n",
      "4 2\n",
      "6 6\n"
     ]
    },
    {
     "data": {
      "image/png": "[encoded data removed]",
      "text/plain": [
       "<Figure size 640x480 with 1 Axes>"
      ]
     },
     "metadata": {},
     "output_type": "display_data"
    }
   ],
   "source": [
    "from Bio import Seq\n",
    "\n",
    "def reverse_complement(s):\n",
    "    return(Seq.Seq(s).reverse_complement())\n",
    "\n",
    "\n",
    "def ba6e(a,b,k):\n",
    "    al=[]\n",
    "    bl=[]\n",
    "    for i in range(len(a)-k+1):\n",
    "        al.append(a[i:i+k])\n",
    "    for i in range(len(b)-k+1):\n",
    "        bl.append(b[i:i+k])\n",
    "    # print(al,bl)\n",
    "    for i in range(len(al)):\n",
    "        for j in range(len(bl)):\n",
    "            if al[i]==bl[j] or al[i]==reverse_complement(bl[j]):\n",
    "                print(i,j)\n",
    "    import matplotlib.pyplot as plt\n",
    "    plt.scatter(i,j)\n",
    "    plt.show()\n",
    "\n",
    "k = 3\n",
    "a = 'AAACTCATC'\n",
    "b = 'TTTCAAATC'\n",
    "\n",
    "ba6e(a,b,k)"
   ]
  },
  {
   "cell_type": "markdown",
   "metadata": {},
   "source": [
    "# BA6F - Implement ChromosomeToCycle"
   ]
  },
  {
   "cell_type": "code",
   "execution_count": 17,
   "metadata": {},
   "outputs": [
    {
     "name": "stdout",
     "output_type": "stream",
     "text": [
      "1 2 4 3 6 5 7 8 "
     ]
    }
   ],
   "source": [
    "def ba6f(chrom):\n",
    "    chrom=[int(i) for i in chrom[1:-1].split( )]\n",
    "    ans=[]\n",
    "    for i in chrom:\n",
    "        if i>=0:\n",
    "            ans.append(2*i-1)\n",
    "            ans.append(2*i)\n",
    "        else:\n",
    "            ans.append(-2*i)\n",
    "            ans.append(-2*i-1)\n",
    "    for i in ans:\n",
    "        print(i,end=' ')\n",
    "\n",
    "    \n",
    "chrom = '(+1 -2 -3 +4)'\n",
    "\n",
    "ba6f(chrom)"
   ]
  },
  {
   "cell_type": "markdown",
   "metadata": {},
   "source": [
    "# BA6G - Implement CycleToChromosome"
   ]
  },
  {
   "cell_type": "code",
   "execution_count": 20,
   "metadata": {},
   "outputs": [
    {
     "data": {
      "text/plain": [
       "[1, -2, -3, 4]"
      ]
     },
     "execution_count": 20,
     "metadata": {},
     "output_type": "execute_result"
    }
   ],
   "source": [
    "def ba6g(cycle):\n",
    "    cycle=[int(i) for i in cycle[1:-1].split(' ')]\n",
    "    ans=[]\n",
    "    for i in range(1,len(cycle),2):\n",
    "        if cycle[i-1]<cycle[i]:\n",
    "            ans.append(cycle[i]//2)\n",
    "        else:\n",
    "            ans.append(-1*cycle[i-1]//2)\n",
    "    return ans\n",
    "\n",
    "\n",
    "cycle='(1 2 4 3 6 5 7 8)'\n",
    "\n",
    "ba6g(cycle)"
   ]
  },
  {
   "cell_type": "markdown",
   "metadata": {},
   "source": [
    "# BA6H - Implement ColoredEdges"
   ]
  },
  {
   "cell_type": "code",
   "execution_count": 42,
   "metadata": {},
   "outputs": [
    {
     "name": "stdout",
     "output_type": "stream",
     "text": [
      "2 4\n",
      "3 6\n",
      "5 1\n",
      "--\n",
      "8 9\n",
      "10 12\n",
      "11 7\n",
      "--\n"
     ]
    }
   ],
   "source": [
    "def ba6h(chrom):\n",
    "    a = []\n",
    "    b = []\n",
    "    chroms = chrom.split(')')[:-1]\n",
    "    for chrom in chroms:\n",
    "        chrom=[int(i) for i in chrom[1:].split(' ')]\n",
    "        ans=[]\n",
    "        for i in chrom:\n",
    "            if i>=0:\n",
    "                ans.append(2*i-1)\n",
    "                ans.append(2*i)\n",
    "            else:\n",
    "                ans.append(-2*i)\n",
    "                ans.append(-2*i-1)\n",
    "        ans=ans[1:]+[ans[0]]\n",
    "        # print(ans)\n",
    "        for i in range(1,len(ans),2):\n",
    "            print(ans[i-1],ans[i])\n",
    "        print('--')\n",
    "\n",
    "chrom = '(+1 -2 -3)(+4 +5 -6)'\n",
    "\n",
    "ba6h(chrom)"
   ]
  },
  {
   "cell_type": "markdown",
   "metadata": {},
   "source": [
    "# BA6I - Implement GraphToGenome"
   ]
  },
  {
   "cell_type": "code",
   "execution_count": 59,
   "metadata": {},
   "outputs": [
    {
     "name": "stdout",
     "output_type": "stream",
     "text": [
      "[1, -2, -3]\n",
      "[-4, 5, -6]\n"
     ]
    }
   ],
   "source": [
    "def ba6i(graph):\n",
    "    cycles=[]\n",
    "    temp=[]\n",
    "    for i in range(len(graph)):\n",
    "        if i==len(graph)-1:\n",
    "            temp+=graph[i]\n",
    "            cycles.append(temp)\n",
    "        elif graph[i][1]==graph[i+1][0]+1 or graph[i][1]+1==graph[i+1][0]:\n",
    "            temp+=graph[i]\n",
    "        else:\n",
    "            temp+=graph[i]\n",
    "            cycles.append(temp)\n",
    "            temp=[]\n",
    "    # return cycles\n",
    "    for cycle in cycles:\n",
    "        cycle=[cycle[-1]]+cycle[:-1]\n",
    "        # print(cycle)\n",
    "        ans=[]\n",
    "        for i in range(1,len(cycle),2):\n",
    "            if cycle[i-1]<cycle[i]:\n",
    "                ans.append(cycle[i]//2)\n",
    "            else:\n",
    "                ans.append(-1*cycle[i-1]//2)\n",
    "        print(ans)\n",
    "\n",
    "\n",
    "ba6i([(2, 4), (3, 6), (5, 1), (7, 9), (10, 12), (11, 8)])\n"
   ]
  },
  {
   "cell_type": "markdown",
   "metadata": {},
   "source": [
    "# ba6j"
   ]
  },
  {
   "cell_type": "code",
   "execution_count": 135,
   "metadata": {},
   "outputs": [
    {
     "data": {
      "text/plain": [
       "[(2, 4), (7, 5), (1, 3), (6, 8)]"
      ]
     },
     "execution_count": 135,
     "metadata": {},
     "output_type": "execute_result"
    }
   ],
   "source": [
    "def ba6k(perm):\n",
    "    if (indi[0],indi[1]) in perm:\n",
    "        perm.remove((indi[0],indi[1]))\n",
    "    else:\n",
    "        perm.remove((indi[1],indi[0]))\n",
    "    if (indi[2],indi[3]) in perm:\n",
    "        perm.remove((indi[2],indi[3]))\n",
    "    else:\n",
    "        perm.remove((indi[3],indi[2]))\n",
    "    perm=perm+[(indi[0],indi[2])]+[(indi[1],indi[3])]\n",
    "    return perm\n",
    "    \n",
    "\n",
    "perm = [(2, 4), (3, 8), (7, 5), (6, 1)]\n",
    "indi = [1, 6, 3, 8]\n",
    "\n",
    "ba6k(perm)"
   ]
  }
 ],
 "metadata": {
  "kernelspec": {
   "display_name": "Python 3",
   "language": "python",
   "name": "python3"
  },
  "language_info": {
   "codemirror_mode": {
    "name": "ipython",
    "version": 3
   },
   "file_extension": ".py",
   "mimetype": "text/x-python",
   "name": "python",
   "nbconvert_exporter": "python",
   "pygments_lexer": "ipython3",
   "version": "3.10.12"
  }
 },
 "nbformat": 4,
 "nbformat_minor": 2
}
