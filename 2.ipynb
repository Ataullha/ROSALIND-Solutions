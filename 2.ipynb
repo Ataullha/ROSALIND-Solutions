{
 "cells": [
  {
   "cell_type": "markdown",
   "metadata": {},
   "source": [
    "# BA2B - Find a Median String"
   ]
  },
  {
   "cell_type": "code",
   "execution_count": 12,
   "metadata": {},
   "outputs": [
    {
     "name": "stdout",
     "output_type": "stream",
     "text": [
      "GAC\n"
     ]
    }
   ],
   "source": [
    "def hamming_distance(s,t):\n",
    "    cnt=0\n",
    "    for i,j in zip(s,t):\n",
    "        cnt+=(i!=j)\n",
    "    return cnt\n",
    "\n",
    "def minimum(dna,kmer,k):\n",
    "    score=0\n",
    "    for seq in dna:\n",
    "        mini=float('inf')\n",
    "        for i in range(len(seq)-k+1):\n",
    "            mini=min(mini,hamming_distance(kmer,seq[i:i+k]))\n",
    "        score+=mini\n",
    "    return score\n",
    "\n",
    "def ba2b(dna,k):\n",
    "    dna=dna.split('\\n')\n",
    "    m={}\n",
    "    for seq in dna:\n",
    "        for i in range(len(seq)-k+1):\n",
    "            m[seq[i:i+k]]=minimum(dna,seq[i:i+k],k)\n",
    "\n",
    "    for i in m:\n",
    "        if m[i]==min(m.values()):\n",
    "            print(i)\n",
    "            return None\n",
    "\n",
    "k = 3\n",
    "dna = '''AAATTGACGCAT\n",
    "GACGACCACGTT\n",
    "CGTCAGCGCCTG\n",
    "GCTGAGCACCGG\n",
    "AGTACGGGACAG'''\n",
    "\n",
    "ba2b(dna,k)"
   ]
  },
  {
   "cell_type": "markdown",
   "metadata": {},
   "source": [
    "# BA2C - Find a Profile-most Probable k-mer in a String"
   ]
  },
  {
   "cell_type": "code",
   "execution_count": 4,
   "metadata": {},
   "outputs": [
    {
     "name": "stdout",
     "output_type": "stream",
     "text": [
      "CCGAG\n"
     ]
    }
   ],
   "source": [
    "def probability(kmer,profile_matrix):\n",
    "    pro=1\n",
    "    for i in range(len(kmer)):\n",
    "        pro*=profile_matrix[kmer[i]][i]\n",
    "    return pro\n",
    "\n",
    "def ba2c(dna,k,profile_matrix):\n",
    "    ans=''\n",
    "    max_pro=-1*float('inf')\n",
    "    for i in range(len(dna)-k+1):\n",
    "        pro=probability(dna[i:i+k],profile_matrix)\n",
    "        if pro>max_pro:\n",
    "            max_pro=pro\n",
    "            ans = dna[i:i+k]\n",
    "    print(ans)\n",
    "\n",
    "\n",
    "dna='ACCTGTTTATTGCCTAAGTTCCGAACAAACCCAATATAGCCCGAGGGCCT'\n",
    "k=5\n",
    "profile_matrix = {\n",
    "'A':[0.2,0.2,0.3,0.2,0.3],\n",
    "'C':[0.4,0.3,0.1,0.5,0.1],\n",
    "'G':[0.3,0.3,0.5,0.2,0.4],\n",
    "'T':[0.1,0.2,0.1,0.1,0.2]\n",
    "}\n",
    "\n",
    "ba2c(dna,k,profile_matrix)"
   ]
  },
  {
   "cell_type": "markdown",
   "metadata": {},
   "source": [
    "# BA2F - Implement RandomizedMotifSearch"
   ]
  },
  {
   "cell_type": "code",
   "execution_count": null,
   "metadata": {},
   "outputs": [],
   "source": []
  },
  {
   "cell_type": "code",
   "execution_count": 36,
   "metadata": {},
   "outputs": [
    {
     "name": "stdout",
     "output_type": "stream",
     "text": [
      "A\t0.222\t0.111\t0.111\t0.111\t0.222\t\n",
      "C\t0.333\t0.333\t0.222\t0.111\t0.111\t\n",
      "G\t0.222\t0.222\t0.222\t0.222\t0.222\t\n",
      "T\t0.222\t0.333\t0.444\t0.556\t0.444\t\n"
     ]
    }
   ],
   "source": [
    "def ba2f(kmers):\n",
    "    kmers=kmers.split('\\n')\n",
    "    k=len(kmers[0])\n",
    "    profile_matrix={\n",
    "        'A':[1]*k,\n",
    "        'C':[1]*k,\n",
    "        'G':[1]*k,\n",
    "        'T':[1]*k\n",
    "    }\n",
    "    for kmer in kmers:\n",
    "        for i in range(len(kmer)):\n",
    "            profile_matrix[kmer[i]][i]+=1\n",
    "    total=len(kmers)+4\n",
    "    for k,v in zip(profile_matrix.keys(),profile_matrix.values()):\n",
    "        print(k,end='\\t')\n",
    "        for i in v:\n",
    "            print(round(i/total,3),end='\\t')\n",
    "        print()\n",
    "\n",
    "kmers='''ACCTG\n",
    "CCTGT\n",
    "CTGTT\n",
    "TGTTT\n",
    "GTTTA'''\n",
    "\n",
    "ba2f(kmers)"
   ]
  },
  {
   "cell_type": "markdown",
   "metadata": {},
   "source": [
    "# BA2H - Implement DistanceBetweenPatternAndStrings"
   ]
  },
  {
   "cell_type": "code",
   "execution_count": 2,
   "metadata": {},
   "outputs": [
    {
     "name": "stdout",
     "output_type": "stream",
     "text": [
      "5\n"
     ]
    }
   ],
   "source": [
    "def hamming_distance(s,t):\n",
    "    cnt=0\n",
    "    for i,j in zip(s,t):\n",
    "        cnt+=(i!=j)\n",
    "    return cnt\n",
    "\n",
    "def ba2h(kmer,dna):\n",
    "    k = len(kmer)\n",
    "    dna=dna.split(' ')\n",
    "    score=0\n",
    "    for seq in dna:\n",
    "        mini=float('inf')\n",
    "        for i in range(len(seq)-k+1):\n",
    "            mini=min(mini,hamming_distance(kmer,seq[i:i+k]))\n",
    "        score+=mini\n",
    "    print(score)\n",
    "\n",
    "kmer = 'AAA'\n",
    "dna = 'TTACCTTAAC GATATCTGTC ACGGCGTTCG CCCTAAAGAG CGTCAGAGGT'\n",
    "\n",
    "ba2h(kmer,dna)"
   ]
  }
 ],
 "metadata": {
  "kernelspec": {
   "display_name": "Python 3",
   "language": "python",
   "name": "python3"
  },
  "language_info": {
   "codemirror_mode": {
    "name": "ipython",
    "version": 3
   },
   "file_extension": ".py",
   "mimetype": "text/x-python",
   "name": "python",
   "nbconvert_exporter": "python",
   "pygments_lexer": "ipython3",
   "version": "3.10.12"
  }
 },
 "nbformat": 4,
 "nbformat_minor": 2
}
