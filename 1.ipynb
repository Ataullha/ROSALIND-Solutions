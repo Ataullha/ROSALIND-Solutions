{
 "cells": [
  {
   "cell_type": "markdown",
   "metadata": {},
   "source": [
    "# BA1F - Find a Position in a Genome Minimizing the Skew"
   ]
  },
  {
   "cell_type": "code",
   "execution_count": 101,
   "metadata": {},
   "outputs": [
    {
     "name": "stdout",
     "output_type": "stream",
     "text": [
      "53 97 "
     ]
    },
    {
     "data": {
      "image/png": "[encoded data removed]",
      "text/plain": [
       "<Figure size 1200x300 with 1 Axes>"
      ]
     },
     "metadata": {},
     "output_type": "display_data"
    }
   ],
   "source": [
    "import matplotlib.pyplot as plt\n",
    "\n",
    "def ba1f(dna):\n",
    "    cnt=0\n",
    "    m = {}\n",
    "    for i in range(len(dna)):\n",
    "        if dna[i]=='G':\n",
    "            cnt+=1\n",
    "        if dna[i]=='C':\n",
    "            cnt-=1\n",
    "        m[i]=cnt\n",
    "    for i in m:\n",
    "        if m[i]==min(m.values()):\n",
    "            print(i+1,end=' ')\n",
    "    plt.figure(figsize=(12,3))\n",
    "    plt.plot(m.keys(),m.values())\n",
    "    plt.xticks(list(m.keys()),dna)\n",
    "\n",
    "dna='CCTATCGGTGGATTAGCATGTCCCTGTACGTTTCGCCGCGAACTAGTTCACACGGCTTGATGGCAAATGGTTTTTCCGGCGACCGTAATCGTCCACCGAG'\n",
    "\n",
    "ba1f(dna)"
   ]
  },
  {
   "cell_type": "markdown",
   "metadata": {},
   "source": [
    "# BA1J - Find Frequent Words with Mismatches and Reverse Complements"
   ]
  },
  {
   "cell_type": "code",
   "execution_count": 106,
   "metadata": {},
   "outputs": [
    {
     "name": "stdout",
     "output_type": "stream",
     "text": [
      "ACAT ATGT "
     ]
    }
   ],
   "source": [
    "from itertools import product\n",
    "from Bio import Seq\n",
    "\n",
    "def reverse_complement(kmer):\n",
    "    return str(Seq.Seq(kmer).reverse_complement())\n",
    "\n",
    "def hamming_distance(s,t):\n",
    "    cnt=0\n",
    "    for i,j in zip(s,t):\n",
    "        cnt+=(i!=j)\n",
    "    return cnt\n",
    "\n",
    "def mismatch(kmer,k,d):\n",
    "    ans=[]\n",
    "    temp=[''.join(i) for i in list(product('ACGT',repeat=k))]\n",
    "    for i in temp:\n",
    "        if hamming_distance(kmer,i)<=d:\n",
    "            ans.append(i)\n",
    "    return ans\n",
    "\n",
    "def ba1j(dna,k,d):\n",
    "    m = {}\n",
    "    for i in range(len(dna)-k+1):\n",
    "        mm = mismatch(dna[i:i+k],k,d)\n",
    "        for i in mm:\n",
    "            if i not in m:\n",
    "                m[i]=0\n",
    "            if reverse_complement(i) not in m:\n",
    "                m[reverse_complement(i)]=0\n",
    "            m[i]+=1\n",
    "            m[reverse_complement(i)]+=1\n",
    "    for i in m:\n",
    "        if m[i]==max(m.values()):\n",
    "            print(i,end=' ')\n",
    "\n",
    "dna = 'ACGTTGCATGTCGCATGATGCATGAGAGCT'\n",
    "k = 4\n",
    "d = 1\n",
    "\n",
    "ba1j(dna,k,d)"
   ]
  },
  {
   "cell_type": "markdown",
   "metadata": {},
   "source": [
    "# BA1K - Generate the Frequency Array of a String"
   ]
  },
  {
   "cell_type": "code",
   "execution_count": 95,
   "metadata": {},
   "outputs": [
    {
     "name": "stdout",
     "output_type": "stream",
     "text": [
      "2 1 0 0 0 0 2 2 1 2 1 0 0 1 1 0 "
     ]
    }
   ],
   "source": [
    "from itertools import product\n",
    "\n",
    "def ba1k(dna,k):\n",
    "    m={}\n",
    "    temp=[''.join(i) for i in list(product('ACGT',repeat=k))]\n",
    "    for i in temp:\n",
    "        m[i]=0\n",
    "    for i in range(len(dna)-k+1):\n",
    "        m[dna[i:i+k]]+=1\n",
    "    for i in m:\n",
    "        print(m[i],end=' ')\n",
    "\n",
    "dna='ACGCGGCTCTGAAA'\n",
    "k=2\n",
    "\n",
    "ba1k(dna,k)"
   ]
  },
  {
   "cell_type": "markdown",
   "metadata": {},
   "source": [
    "# BA1L - Implement PatternToNumber"
   ]
  },
  {
   "cell_type": "code",
   "execution_count": 91,
   "metadata": {},
   "outputs": [
    {
     "name": "stdout",
     "output_type": "stream",
     "text": [
      "11\n"
     ]
    }
   ],
   "source": [
    "def ba1l(dna):\n",
    "    m = {\n",
    "        'A':'00','C':'01','G':'10','T':'11'\n",
    "    }\n",
    "    ans=''\n",
    "    for i in dna:\n",
    "        ans=ans+m[i]\n",
    "    print(int(ans,2))\n",
    "\n",
    "dna = 'AGT'\n",
    "\n",
    "ba1l(dna)"
   ]
  },
  {
   "cell_type": "markdown",
   "metadata": {},
   "source": [
    "# BA1M - Implement NumberToPattern"
   ]
  },
  {
   "cell_type": "code",
   "execution_count": 88,
   "metadata": {},
   "outputs": [
    {
     "name": "stdout",
     "output_type": "stream",
     "text": [
      "AGTC\n"
     ]
    }
   ],
   "source": [
    "def ba1m(n,k):\n",
    "    m={\n",
    "        0:'A',1:'C',2:'G',3:'T'\n",
    "    }\n",
    "    ans=[]\n",
    "    while n:\n",
    "        ans.append(m[n%4])\n",
    "        n//=4\n",
    "    ans = ''.join(ans)[::-1]\n",
    "    while len(ans)<k:\n",
    "        ans='A'+ans\n",
    "    print(ans)\n",
    "\n",
    "n=45\n",
    "k=4\n",
    "\n",
    "ba1m(n,k)"
   ]
  },
  {
   "cell_type": "markdown",
   "metadata": {},
   "source": [
    "# BA1N - Generate the d-Neighborhood of a String"
   ]
  },
  {
   "cell_type": "code",
   "execution_count": 86,
   "metadata": {},
   "outputs": [
    {
     "name": "stdout",
     "output_type": "stream",
     "text": [
      "AAG\n",
      "ACA\n",
      "ACC\n",
      "ACG\n",
      "ACT\n",
      "AGG\n",
      "ATG\n",
      "CCG\n",
      "GCG\n",
      "TCG\n"
     ]
    }
   ],
   "source": [
    "from itertools import product\n",
    "\n",
    "def hamming_distance(s,t):\n",
    "    cnt = 0\n",
    "    for i,j in zip(s,t):\n",
    "        cnt+=(i!=j)\n",
    "    return cnt\n",
    "\n",
    "def ba1n(kmer,d):\n",
    "    k=len(kmer)\n",
    "    temp = [''.join(i) for i in list(product('ACGT',repeat=k))]\n",
    "    for i in temp:\n",
    "        if hamming_distance(kmer,i)<=d:\n",
    "            print(i)\n",
    "\n",
    "kmer = 'ACG'\n",
    "d = 1\n",
    "\n",
    "ba1n(kmer,d)"
   ]
  }
 ],
 "metadata": {
  "kernelspec": {
   "display_name": "Python 3",
   "language": "python",
   "name": "python3"
  },
  "language_info": {
   "codemirror_mode": {
    "name": "ipython",
    "version": 3
   },
   "file_extension": ".py",
   "mimetype": "text/x-python",
   "name": "python",
   "nbconvert_exporter": "python",
   "pygments_lexer": "ipython3",
   "version": "3.10.12"
  }
 },
 "nbformat": 4,
 "nbformat_minor": 2
}
