{
 "cells": [
  {
   "cell_type": "markdown",
   "metadata": {},
   "source": [
    "# ba7a"
   ]
  },
  {
   "cell_type": "code",
   "execution_count": 33,
   "metadata": {},
   "outputs": [
    {
     "name": "stdout",
     "output_type": "stream",
     "text": [
      "[0, 13, 21, 22]\n",
      "[13, 0, 12, 13]\n",
      "[21, 12, 0, 13]\n",
      "[22, 13, 13, 0]\n"
     ]
    }
   ],
   "source": [
    "with open('demo.txt') as f:\n",
    "    n = int(f.readline())\n",
    "    dis = [[float('inf') for i in range(100)] for j in range(100)]\n",
    "    lines = f.readlines()\n",
    "for i in range(n+1):\n",
    "    dis[i][i]=0\n",
    "for line in lines:\n",
    "    neig,w = line.split(':')\n",
    "    x,y = neig.split('->')\n",
    "    dis[int(x)][int(y)]=int(w)\n",
    "# print(dis)\n",
    "for k in range(100):\n",
    "    for i in range(100):\n",
    "        for j in range(100):\n",
    "            if i==j or j==k or k==i:\n",
    "                continue\n",
    "            dis[i][j]=min(dis[i][j],dis[i][k]+dis[k][j])\n",
    "            dis[j][i]=dis[i][j]\n",
    "for i in range(n):\n",
    "    print(dis[i][:n])"
   ]
  }
 ],
 "metadata": {
  "kernelspec": {
   "display_name": "Python 3",
   "language": "python",
   "name": "python3"
  },
  "language_info": {
   "codemirror_mode": {
    "name": "ipython",
    "version": 3
   },
   "file_extension": ".py",
   "mimetype": "text/x-python",
   "name": "python",
   "nbconvert_exporter": "python",
   "pygments_lexer": "ipython3",
   "version": "3.10.12"
  }
 },
 "nbformat": 4,
 "nbformat_minor": 2
}
