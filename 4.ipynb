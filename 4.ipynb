{
 "cells": [
  {
   "cell_type": "markdown",
   "metadata": {},
   "source": [
    "# BA4C - Generate the Theoretical Spectrum of a Cyclic Peptide"
   ]
  },
  {
   "cell_type": "code",
   "execution_count": 28,
   "metadata": {},
   "outputs": [
    {
     "name": "stdout",
     "output_type": "stream",
     "text": [
      "0 113 114 128 129 227 242 242 257 355 356 370 371 484 "
     ]
    }
   ],
   "source": [
    "def mass(kmer):\n",
    "    m = {\n",
    "        'G':57,'A':71,'S':87,'P':97,'V':99,'T':101,'C':103,'I':113,'L':113,'N':114,\n",
    "        'D':115,'K':128,'Q':128,'E':129,'M':131,'H':137,'F':147,'R':156,'Y':163,'W':186\n",
    "    }\n",
    "    cnt=0\n",
    "    for i in kmer:\n",
    "        cnt+=m[i]\n",
    "    return cnt\n",
    "\n",
    "def ba4c(peptide):\n",
    "    ans=[]\n",
    "    pep=peptide+peptide\n",
    "    for k in range(1,len(peptide)):\n",
    "        for i in range(len(peptide)):\n",
    "            ans.append(mass(pep[i:i+k]))\n",
    "    ans.append(0)\n",
    "    ans.append(mass(peptide))\n",
    "    ans=sorted(ans)\n",
    "    for i in ans:\n",
    "        print(i,end=' ')\n",
    "\n",
    "peptide='LEQN'\n",
    "\n",
    "ba4c(peptide)"
   ]
  },
  {
   "cell_type": "markdown",
   "metadata": {},
   "source": [
    "# BA4D - Compute the Number of Peptides of Given Total Mass"
   ]
  },
  {
   "cell_type": "code",
   "execution_count": 18,
   "metadata": {},
   "outputs": [
    {
     "data": {
      "text/plain": [
       "14712706211"
      ]
     },
     "execution_count": 18,
     "metadata": {},
     "output_type": "execute_result"
    }
   ],
   "source": [
    "mass = [57, 71, 87, 97, 99, 101, 103, 113, 114, 115, 128, 129, 131, 137, 147, 156, 163, 186]\n",
    "\n",
    "def ba4d(total,m):\n",
    "    if total==0:\n",
    "        return 1\n",
    "    if m[total]!=-1:\n",
    "        return m[total]\n",
    "    sum=0\n",
    "    for i in mass:\n",
    "        if i<=total:\n",
    "            sum+=ba4d(total-i,m)\n",
    "    m[total]=sum\n",
    "    return m[total]\n",
    "\n",
    "total = 1024    \n",
    "m = [-1]*(total+1)\n",
    "ba4d(total,m)"
   ]
  },
  {
   "cell_type": "markdown",
   "metadata": {},
   "source": [
    "# BA4F - Compute the Score of a Cyclic Peptide Against a Spectrum"
   ]
  },
  {
   "cell_type": "code",
   "execution_count": 27,
   "metadata": {},
   "outputs": [
    {
     "name": "stdout",
     "output_type": "stream",
     "text": [
      "11\n"
     ]
    }
   ],
   "source": [
    "def mass(kmer):\n",
    "    m = {\n",
    "        'G':57,'A':71,'S':87,'P':97,'V':99,'T':101,'C':103,'I':113,'L':113,'N':114,\n",
    "        'D':115,'K':128,'Q':128,'E':129,'M':131,'H':137,'F':147,'R':156,'Y':163,'W':186\n",
    "    }\n",
    "    cnt=0\n",
    "    for i in kmer:\n",
    "        cnt+=m[i]\n",
    "    return cnt\n",
    "\n",
    "def ba4f(peptide,spec):\n",
    "    ans=[]\n",
    "    pep=peptide+peptide\n",
    "    for k in range(1,len(peptide)):\n",
    "        for i in range(len(peptide)):\n",
    "            ans.append(mass(pep[i:i+k]))\n",
    "    ans.append(0)\n",
    "    ans.append(mass(peptide))\n",
    "    ans=sorted(ans)\n",
    "    res=list(set(ans+spec))\n",
    "    score=0\n",
    "    for i in res:\n",
    "        score+=min(ans.count(i),spec.count(i))\n",
    "    print(score)\n",
    "\n",
    "peptide = 'NQEL'\n",
    "spec = [0,99,113,114,128,227,257,299,355,356,370,371,484]\n",
    "\n",
    "ba4f(peptide,spec)"
   ]
  },
  {
   "cell_type": "markdown",
   "metadata": {},
   "source": [
    "# BA4H - Generate the Convolution of a Spectrum"
   ]
  },
  {
   "cell_type": "code",
   "execution_count": 31,
   "metadata": {},
   "outputs": [
    {
     "name": "stdout",
     "output_type": "stream",
     "text": [
      "137 137 186 186 323 49 "
     ]
    }
   ],
   "source": [
    "def ba4h(spec):\n",
    "    ans=[]\n",
    "    for i in range(1,len(spec)):\n",
    "        for j in spec[i:]:\n",
    "            ans.append(j-spec[i-1])\n",
    "    m={}\n",
    "    for i in ans:\n",
    "        if i not in m:\n",
    "            m[i]=0\n",
    "        m[i]+=1\n",
    "    m = dict(sorted(m.items(),key=lambda item:item[1],reverse=True))\n",
    "    for i in m:\n",
    "        for j in range(0,m[i]):\n",
    "            print(i,end=' ')\n",
    "\n",
    "spec=[0,137,186,323]\n",
    "\n",
    "ba4h(spec)"
   ]
  }
 ],
 "metadata": {
  "kernelspec": {
   "display_name": "Python 3",
   "language": "python",
   "name": "python3"
  },
  "language_info": {
   "codemirror_mode": {
    "name": "ipython",
    "version": 3
   },
   "file_extension": ".py",
   "mimetype": "text/x-python",
   "name": "python",
   "nbconvert_exporter": "python",
   "pygments_lexer": "ipython3",
   "version": "3.10.12"
  }
 },
 "nbformat": 4,
 "nbformat_minor": 2
}
