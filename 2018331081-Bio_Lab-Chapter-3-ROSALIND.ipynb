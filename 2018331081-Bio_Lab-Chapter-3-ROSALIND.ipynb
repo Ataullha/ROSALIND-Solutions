{
 "cells": [
  {
   "cell_type": "markdown",
   "metadata": {},
   "source": [
    "# ba3a - Generate the k-mer Composition of a String"
   ]
  },
  {
   "cell_type": "code",
   "execution_count": 1,
   "metadata": {},
   "outputs": [
    {
     "name": "stdout",
     "output_type": "stream",
     "text": [
      "CAATC\n",
      "AATCC\n",
      "ATCCA\n",
      "TCCAA\n",
      "CCAAC\n"
     ]
    }
   ],
   "source": [
    "def ba3a(k,dna):\n",
    "    for i in range(len(dna)-k+1):\n",
    "        print(dna[i:i+k])\n",
    "\n",
    "k = 5\n",
    "dna = 'CAATCCAAC'\n",
    "\n",
    "ba3a(k,dna)"
   ]
  },
  {
   "cell_type": "markdown",
   "metadata": {},
   "source": [
    "# ba3b - Reconstruct a String from its Genome Path"
   ]
  },
  {
   "cell_type": "code",
   "execution_count": 5,
   "metadata": {},
   "outputs": [
    {
     "name": "stdout",
     "output_type": "stream",
     "text": [
      "ACCGAAGCT\n"
     ]
    }
   ],
   "source": [
    "def ba3b(kmers):\n",
    "    kmers = kmers.split('\\n')\n",
    "    dna = kmers[0]\n",
    "    for kmer in kmers[1:]:\n",
    "        dna = dna + kmer[-1]\n",
    "    return dna\n",
    "\n",
    "kmers = '''ACCGA\n",
    "CCGAA\n",
    "CGAAG\n",
    "GAAGC\n",
    "AAGCT'''\n",
    "\n",
    "print(ba3b(kmers))"
   ]
  },
  {
   "cell_type": "markdown",
   "metadata": {},
   "source": [
    "# ba3c - Construct the Overlap Graph of a Collection of k-mers"
   ]
  },
  {
   "cell_type": "code",
   "execution_count": 8,
   "metadata": {},
   "outputs": [
    {
     "name": "stdout",
     "output_type": "stream",
     "text": [
      "GCATG -> CATGC\n",
      "CATGC -> ATGCG\n",
      "AGGCA -> GGCAT\n",
      "GGCAT -> GCATG\n"
     ]
    }
   ],
   "source": [
    "def ba3c(dna):\n",
    "    dna = dna.split('\\n')\n",
    "    for i in dna:\n",
    "        for j in dna:\n",
    "            if i[1:]==j[:-1]:\n",
    "                print(i,'->',j)\n",
    "\n",
    "dna = '''ATGCG\n",
    "GCATG\n",
    "CATGC\n",
    "AGGCA\n",
    "GGCAT'''\n",
    "\n",
    "ba3c(dna)"
   ]
  },
  {
   "cell_type": "markdown",
   "metadata": {},
   "source": [
    "# ba3d - Construct the De Bruijn Graph of a String"
   ]
  },
  {
   "cell_type": "code",
   "execution_count": null,
   "metadata": {},
   "outputs": [],
   "source": [
    "# keep all the kmers in a map\n",
    "\n",
    "def ba3d(k,dna):\n",
    "    m = {}\n",
    "    for i in range(len(dna)-k+1):\n",
    "        if dna[i:i+k][:-1] not in m:\n",
    "            m[dna[i:i+k][:-1]] = []\n",
    "        m[dna[i:i+k][:-1]].append(dna[i:i+k][1:])\n",
    "    for k,v in zip(m.keys(),m.values()):\n",
    "        print(k,'->',end=' ')\n",
    "        for i in range(len(v)-1):\n",
    "            print(v[i],end=',')\n",
    "        print(v[len(v)-1])\n",
    "        \n",
    "\n",
    "k = 12\n",
    "dna = 'GTGCAAGAACGGCAAACGGCTCAAGACGACAAGTCCCTGAGTGTCGATTAGCACCAAAGCTGGATGACTATCCTCGTGTATTTTGACTTCGCCGGTCCTAAAAATGCAAAAAATACGGGCTTGTTACCAATCAGTCAAGAACAATCAGTCCGGCGCGAGTTTTGCATAACCCGCTGGGCGTGGAACGTACGCGGTTGATCGCCTCGGTGTCTCCGAAAGTACTCATGATAGCTCTAAATGTCGTCTCTTTACACGTTCGACACGGCGTATACATGAAGATACTTCACGTTCGTCATATGGCGGTCTTGTCTATGGTTAACCTCTTGGAGGGGTACTTAGGTGTTGCGGCCGTAATGTTGGACTATAGGTCCGTTATACTATCCTAAGTTCACCACGATCTTTAGAAACTAGGGGTATCCTGTGCTATCCATGTCGATGTTGTGCGCATCCTCGTTTGTGTCGCCATTTCCTGCCTGGGATGTGCGAGCGTATTCGGGCCTGAAGGGGGATTCAGGAGTCGTGTTGGCCTTGCCCGCTATGTCTCAACCAGGAACGGTAATTGTTAATTTAGCGCTATCCCCCGTCTAGCTCGATGTGATGTACAATAAGAGTGTGCTATAGGGGTGCACAGAGCGTCACGGAACCCTCCCACATATGTAAAGGACATTACCAGTTGTATATGTATTTAGCCGTACAAGGAAACACAAGTCGATGTGCCCTCCTAGACCGAGTCCACAAAGAACCGGTACGCTTCATTGTCACGCGCTAATTAGAGGTGCACTGCATGTGAAGTTACGTTTTAGGCTGTGAATAGTGCAACTGATGCCCGAGTCTTCCCCTTTAGATGACTATTAGAGGATAGCTCTGTAGATCACCTCAAAAGCATGAAGCATCAAGCTACTGACAAGACATATTTAATCATCGGCGACACAGGACCGTTAACGTGAAAATACTTTAACCTCATTATATCATCGTGGGACCAGGACATCAAGGAGAGAAGGCTTCGCAGACTTGTCGATTGTTAGACTCGATTCCGTAAAATCTCTCCTAAGCGGGTCGCGTCGTGGTGAGAATTGCCACATGATTCTTCTGTAGTAACAAATTGGCACGGGTTGTATCTTTACCTTGTCACACTGACTGAAAGTCAGTGTTCCCGAGCGGGATCGTTTTCCGACTAACTCAACAAATTGTATGACTTCATGCATGCCGTATCGAAGGACCTGACTCACAGAAATACTTTGGTCTCAGGTCGTATGCGAATATAAGGTGAAAGACAATGTCTATCGAATAATGCCACATGGCACGGGAGTGAGCATGCGAAGTCGGCTCTCGGTACTTTTGTTTCGTGTATGCGTGCTTGATTCTCCCTATTTGCCGCATTCGTTCAACTCATGGGGCCCAGAAGGAGATGTGACATGTCGGTTCCCCTCAGGAAGACCAAGGCACTATCGCCCGAGGGTGGTTTGTCGCATGTAGACAGTATTTGAACTCACACGTGTTAATAGAGAGAGGTCCGCCCGAAGGATGGTAATGTTGATGGAGCCGCTCGCATGAGGTCTTGGACAAGAGCGTCCCGTACTGGGGCTGTGTTCGCCTAGTTCCACGGTAGTACATTGGAAGGCGTTCTTTCTAACGTGATAACTGCTCTAGCCACCCTTATAGCCGTGAGCGGACTGACTCGAGGGCGTCTCTTGAGGTGCCTATGACCGAACGCACACCCTACTGGATACGCTCCGACAATTATATCACGAAGGGACTCATTTCCGGACATGGACTATAGGCGCTCAGGAACGTCAGGGCGGTATCTTACTCTGTGTCTAAGCCCCCATGGTAACACCGGAGCAGAAGTAAATGGCGTGACTCGAGCCCTCGGCAGCACCGAATAGGATAGACTATAGTTACTGCAAAGCCTGTCCGCGGGTAAGCATGCTGGACAACCCTTATGAAAGAAAATGCAGACGACACATACAAAGGCTGGTTTAGTTAATCCCACTCGTTTT'\n",
    "\n",
    "ba3d(k,dna)"
   ]
  },
  {
   "cell_type": "markdown",
   "metadata": {},
   "source": [
    "# ba3e - Construct the De Bruijn Graph of a Collection of k-mers"
   ]
  },
  {
   "cell_type": "code",
   "execution_count": 37,
   "metadata": {},
   "outputs": [
    {
     "name": "stdout",
     "output_type": "stream",
     "text": [
      "GAG -> AGG\n",
      "CAG -> AGG,AGG\n",
      "GGG -> GGG,GGA\n",
      "AGG -> GGG\n",
      "GGA -> GAG\n"
     ]
    }
   ],
   "source": [
    "def ba3e(dna):\n",
    "    dna = dna.split('\\n')\n",
    "    m = {}\n",
    "    for kmer in dna:\n",
    "        if kmer[:-1] not in m:\n",
    "            m[kmer[:-1]] = []\n",
    "        m[kmer[:-1]].append(kmer[1:])\n",
    "    # return m\n",
    "    for k,v in zip(m.keys(),m.values()):\n",
    "        print(k,'->',end=' ')\n",
    "        for i in range(len(v)-1):\n",
    "            print(v[i],end=',')\n",
    "        print(v[len(v)-1])\n",
    "\n",
    "\n",
    "dna = '''GAGG\n",
    "CAGG\n",
    "GGGG\n",
    "GGGA\n",
    "CAGG\n",
    "AGGG\n",
    "GGAG'''\n",
    "\n",
    "ba3e(dna)"
   ]
  },
  {
   "cell_type": "code",
   "execution_count": 40,
   "metadata": {},
   "outputs": [
    {
     "name": "stdout",
     "output_type": "stream",
     "text": [
      "6->7->8->9->6->3->0->2->1->3->4"
     ]
    }
   ],
   "source": [
    "from collections import defaultdict\n",
    "\n",
    "def find_eulerian_path(graph):\n",
    "    in_degree = defaultdict(int)\n",
    "    out_degree = defaultdict(int)\n",
    "    for node in graph:\n",
    "        out_degree[node] = len(graph[node])\n",
    "        for neighbor in graph[node]:\n",
    "            in_degree[neighbor] += 1\n",
    "    start_node = graph[0]\n",
    "    for node in graph:\n",
    "        if in_degree[node] + 1 == out_degree[node]:\n",
    "            start_node = node\n",
    "    def visit(node):\n",
    "        while graph[node]:\n",
    "            visit(graph[node].pop())\n",
    "        path.append(node)\n",
    "\n",
    "    path = []\n",
    "    visit(start_node)\n",
    "\n",
    "    return path[::-1]\n",
    "\n",
    "\n",
    "graph ={0:[2],\n",
    "1:[3],\n",
    "2:[1],\n",
    "3:[0,4],\n",
    "4:[],\n",
    "6:[3,7],\n",
    "7:[8],\n",
    "8:[9],\n",
    "9:[6]\n",
    "}\n",
    "\n",
    "# Find the Eulerian path\n",
    "eulerian_path = find_eulerian_path(graph)\n",
    "for i in range(len(eulerian_path)):\n",
    "    print(eulerian_path[i],end='')\n",
    "    if(i+1!=(len(eulerian_path))):\n",
    "        print(\"->\",end='')"
   ]
  },
  {
   "cell_type": "code",
   "execution_count": 67,
   "metadata": {},
   "outputs": [
    {
     "name": "stdout",
     "output_type": "stream",
     "text": [
      "[6, 7, 8, 9, 6, 3, 0, 2, 1, 3, 4]\n"
     ]
    }
   ],
   "source": [
    "def ba3g(graph):\n",
    "    in_deg = defaultdict(int)\n",
    "    out_deg = defaultdict(int)\n",
    "    for node in graph:\n",
    "        out_deg[node] = len(graph[node])\n",
    "    # print(out_deg)\n",
    "    for node in graph:\n",
    "        for negihbour in graph[node]:\n",
    "            in_deg[negihbour] += 1\n",
    "    # print(in_deg)\n",
    "    start_node = graph[0]\n",
    "    for node in graph:\n",
    "        if in_deg[node]+1==out_deg[node]:\n",
    "            start_node = node\n",
    "    def visit(node):\n",
    "        while(graph[node]):\n",
    "            visit(graph[node].pop())\n",
    "        path.append(node)\n",
    "    path = []\n",
    "    visit(start_node)\n",
    "    print(path[::-1])\n",
    "\n",
    "graph = {\n",
    "    0:[2],\n",
    "    1:[3],\n",
    "    2:[1],\n",
    "    3:[0,4],\n",
    "    4:[],\n",
    "    6:[3,7],\n",
    "    7:[8],\n",
    "    8:[9],\n",
    "    9:[6]\n",
    "}\n",
    "\n",
    "ba3g(graph)"
   ]
  },
  {
   "cell_type": "code",
   "execution_count": null,
   "metadata": {},
   "outputs": [],
   "source": []
  }
 ],
 "metadata": {
  "kernelspec": {
   "display_name": "Python 3",
   "language": "python",
   "name": "python3"
  },
  "language_info": {
   "codemirror_mode": {
    "name": "ipython",
    "version": 3
   },
   "file_extension": ".py",
   "mimetype": "text/x-python",
   "name": "python",
   "nbconvert_exporter": "python",
   "pygments_lexer": "ipython3",
   "version": "3.10.12"
  }
 },
 "nbformat": 4,
 "nbformat_minor": 2
}
