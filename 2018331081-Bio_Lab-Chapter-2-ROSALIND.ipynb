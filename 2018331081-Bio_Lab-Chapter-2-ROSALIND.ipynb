{
 "cells": [
  {
   "cell_type": "markdown",
   "metadata": {},
   "source": [
    "# ba2a - Implement MotifEnumeration"
   ]
  },
  {
   "cell_type": "code",
   "execution_count": 1,
   "metadata": {},
   "outputs": [
    {
     "name": "stdout",
     "output_type": "stream",
     "text": [
      "AATCA\n",
      "AACCA\n",
      "AAACA\n",
      "AAGCA\n"
     ]
    }
   ],
   "source": [
    "from itertools import product\n",
    "\n",
    "def hamming_distance(s,t):\n",
    "    cnt = 0\n",
    "    for i,j in zip(s,t):\n",
    "        cnt += i!=j\n",
    "    return cnt\n",
    "\n",
    "def motif(dna,kmer,k,d):\n",
    "    inTotalCnt = 0\n",
    "    for seq in dna:\n",
    "        inSeqCnt = 0\n",
    "        for i in range(len(seq)-k+1):\n",
    "            if hamming_distance(seq[i:i+k],kmer)<=d:\n",
    "                inSeqCnt += 1\n",
    "        if inSeqCnt>=1:\n",
    "            inTotalCnt +=1\n",
    "    if inTotalCnt==len(dna):\n",
    "        return True\n",
    "    return False\n",
    "\n",
    "def ba2a(dna,k,d):\n",
    "    # find all the kmers\n",
    "    all_kmers = [''.join(i) for i in list(product('ACGT',repeat=k))]\n",
    "    dna = dna.split('\\n')\n",
    "    ans = []\n",
    "    # now find the list where a kmers from all_kmers list is in all the seq\n",
    "    for kmer in all_kmers:\n",
    "        if motif(dna,kmer,k,d)==True:\n",
    "            ans.append(kmer)\n",
    "    return list(set(ans))\n",
    "\n",
    "# input\n",
    "\n",
    "k = 5\n",
    "d = 1\n",
    "\n",
    "dna = '''TCTTGAGAAGGCCGGAATCAAAACC\n",
    "GATGCTTGCAAGAAGAATCAGGTAG\n",
    "AATCAGACGTTGCCAGTGGGAAGTG\n",
    "TGTAGTCATGCGAAGCGGTGAACCA\n",
    "ACATCTCCCGTTTGAAACCATGGGC\n",
    "AGTCGGACGACACGCAAGCACACTG\n",
    "ACGAGCACTGAAACAAAGCTTACGT\n",
    "CTTGCCAGCTCGTTGAAGCACGTGG\n",
    "TCCTGGGGTCAAAATAAACAATTGT\n",
    "AAGCACCTCATAAGTGCTTCGAAGC'''\n",
    "\n",
    "# output\n",
    "\n",
    "for i in ba2a(dna,k,d):\n",
    "    print(i)"
   ]
  },
  {
   "cell_type": "markdown",
   "metadata": {},
   "source": [
    "# ba2b - Find a Median String"
   ]
  },
  {
   "cell_type": "code",
   "execution_count": 11,
   "metadata": {},
   "outputs": [],
   "source": [
    "# sum of minimum mismatches but in every string is the score\n",
    "# find the minimum score"
   ]
  },
  {
   "cell_type": "code",
   "execution_count": 15,
   "metadata": {},
   "outputs": [
    {
     "name": "stdout",
     "output_type": "stream",
     "text": [
      "GAC\n"
     ]
    }
   ],
   "source": [
    "def minimum_score(dna,kmer,k):\n",
    "    score = 0\n",
    "    for seq in dna:\n",
    "        min_hd = float('inf')\n",
    "        for i in range(len(seq)-k+1):\n",
    "            cur_hd = hamming_distance(seq[i:i+k],kmer)\n",
    "            if cur_hd<min_hd:\n",
    "                min_hd = cur_hd\n",
    "        score += min_hd\n",
    "    return score\n",
    "\n",
    "def ba2b(dna,k):\n",
    "    dna = dna.split('\\n')\n",
    "    min_map = {}\n",
    "    for seq in dna:\n",
    "        for i in range(len(seq)-k+1):\n",
    "            min_map[seq[i:i+k]] = minimum_score(dna,seq[i:i+k],k)\n",
    "    # return min_map\n",
    "    ans = ''\n",
    "    min_score = float('inf')\n",
    "    for k,v in zip(min_map.keys(),min_map.values()):\n",
    "        if v<min_score:\n",
    "            min_score = v\n",
    "            ans = k\n",
    "    return ans\n",
    "\n",
    "\n",
    "    \n",
    "k = 3\n",
    "dna = '''AAATTGACGCAT\n",
    "GACGACCACGTT\n",
    "CGTCAGCGCCTG\n",
    "GCTGAGCACCGG\n",
    "AGTACGGGACAG'''\n",
    "\n",
    "print(ba2b(dna,k))"
   ]
  },
  {
   "cell_type": "markdown",
   "metadata": {},
   "source": [
    "# ba2c - Find a Profile-most Probable k-mer in a String"
   ]
  },
  {
   "cell_type": "code",
   "execution_count": 64,
   "metadata": {},
   "outputs": [
    {
     "name": "stdout",
     "output_type": "stream",
     "text": [
      "GGCCT\n"
     ]
    }
   ],
   "source": [
    "def probability(kmer,pm):\n",
    "    pro = 1\n",
    "    for i in range(len(kmer)):\n",
    "        pro *= pm[kmer[i]][i]\n",
    "    return pro\n",
    "\n",
    "def ba2c(dna,k,pm):\n",
    "    best_pro = -1*float('inf')\n",
    "    ans = ''\n",
    "    for i in range(len(dna)-k+1):\n",
    "        pro = probability(dna[i:i+k],pm)\n",
    "        if pro>best_pro:\n",
    "            ans = dna[i:i+k]\n",
    "            pro = best_pro\n",
    "    return ans\n",
    "\n",
    "dna = 'ACCTGTTTATTGCCTAAGTTCCGAACAAACCCAATATAGCCCGAGGGCCT'\n",
    "k = 5\n",
    "pm = {\n",
    "'A': [0.2,0.2,0.3,0.2,0.3],\n",
    "'C': [0.4,0.3,0.1,0.5,0.1],\n",
    "'T': [0.3,0.3,0.5,0.2,0.4],\n",
    "'G': [0.1,0.2,0.1,0.1,0.2]\n",
    "}\n",
    "\n",
    "print(ba2c(dna,k,pm))"
   ]
  },
  {
   "cell_type": "markdown",
   "metadata": {},
   "source": [
    "# ba2d - Implement GreedyMotifSearch"
   ]
  },
  {
   "cell_type": "code",
   "execution_count": 59,
   "metadata": {},
   "outputs": [
    {
     "name": "stdout",
     "output_type": "stream",
     "text": [
      "CAG\n",
      "CAG\n",
      "CAA\n",
      "CAA\n",
      "CAA\n"
     ]
    }
   ],
   "source": [
    "# max-probab, min-score\n",
    "\n",
    "def probab(pm,kmer):\n",
    "    pro = 1\n",
    "    for i in range(len(kmer)):\n",
    "        pro *= pm[kmer[i]][i]\n",
    "    return pro\n",
    "\n",
    "def profile_matrix(res,k):\n",
    "    pm = {\n",
    "        'A':[0]*k,\n",
    "        'C':[0]*k,\n",
    "        'G':[0]*k,\n",
    "        'T':[0]*k\n",
    "    }\n",
    "    for kmer in res:\n",
    "        for i in range(len(kmer)):\n",
    "            pm[kmer[i]][i] += 1/len(res)\n",
    "    return pm\n",
    "\n",
    "def score(kmers,k):\n",
    "    score = 0\n",
    "    for i in range(k):\n",
    "        l = [j[i] for j in kmers]\n",
    "        score += (len(l)-max(l.count('A'),l.count('C'),l.count('G'),l.count('T')))\n",
    "    return score\n",
    "\n",
    "\n",
    "def most_probable(kmer,rest,k):\n",
    "    res = []\n",
    "    res.append(kmer)\n",
    "    for seq in rest:\n",
    "        pm = profile_matrix(res,k)\n",
    "        max_prob = -1*float('inf')\n",
    "        ans = ''\n",
    "        for i in range(len(seq)-k+1):\n",
    "            prob = probab(pm,seq[i:i+k])\n",
    "            if prob>max_prob:\n",
    "                max_prob = prob\n",
    "                ans = seq[i:i+k]\n",
    "        res.append(ans)\n",
    "    return res\n",
    "\n",
    "def ba2d(k,n,dna):\n",
    "    dna = dna.split('\\n')\n",
    "    template = dna[0]\n",
    "    rest = dna[1:n]\n",
    "    # find all the template kmers (all the kmers in the first line of the dna :3 ..)\n",
    "    all_temp = []\n",
    "    for i in range(len(template)-k+1):\n",
    "        all_temp.append(template[i:i+k])\n",
    "    # return all_temp\n",
    "    kmers = []\n",
    "    for kmer in all_temp:\n",
    "        target = most_probable(kmer,rest,k)\n",
    "        # print(target)\n",
    "        # target will be a array of kmer+n-1 other kmers\n",
    "        kmers.append(target)\n",
    "    # print(all_temp)\n",
    "    min_score = float('inf')\n",
    "    ans = ''\n",
    "    # print(kmers)\n",
    "    for target in kmers:\n",
    "        sc = score(target,k)\n",
    "        if sc < min_score:\n",
    "            min_score = sc\n",
    "            ans = target\n",
    "    return ans\n",
    "\n",
    "\n",
    "n = 5\n",
    "k = 3\n",
    "dna = '''GGCGTTCAGGCA\n",
    "AAGAATCAGTCA\n",
    "CAAGGAGTTCGC\n",
    "CACGTCAATCAC\n",
    "CAATAATATTCG'''\n",
    "\n",
    "for i in ba2d(k,n,dna):\n",
    "    print(i)"
   ]
  },
  {
   "cell_type": "code",
   "execution_count": 31,
   "metadata": {},
   "outputs": [],
   "source": [
    "# l = ['abc','def']\n",
    "# k = 3\n",
    "# for i in range(k):\n",
    "#     print([j[i] for j in l])"
   ]
  },
  {
   "cell_type": "markdown",
   "metadata": {},
   "source": [
    "# ba2e - Implement GreedyMotifSearch with Pseudocounts"
   ]
  },
  {
   "cell_type": "code",
   "execution_count": 61,
   "metadata": {},
   "outputs": [
    {
     "name": "stdout",
     "output_type": "stream",
     "text": [
      "TTC\n",
      "ATC\n",
      "TTC\n",
      "ATC\n",
      "TTC\n"
     ]
    }
   ],
   "source": [
    "# max-probab, min-score\n",
    "# change with d is only the pm matrix intialization in d it was 0 but here it will 1/4\n",
    "\n",
    "def probab(pm,kmer):\n",
    "    pro = 1\n",
    "    for i in range(len(kmer)):\n",
    "        pro *= pm[kmer[i]][i]\n",
    "    return pro\n",
    "\n",
    "def profile_matrix(res,k):\n",
    "    pm = {\n",
    "        'A':[1/4]*k,\n",
    "        'C':[1/4]*k,\n",
    "        'G':[1/4]*k,\n",
    "        'T':[1/4]*k\n",
    "    }\n",
    "    for kmer in res:\n",
    "        for i in range(len(kmer)):\n",
    "            pm[kmer[i]][i] += 1/len(res)\n",
    "    return pm\n",
    "\n",
    "def score(kmers,k):\n",
    "    score = 0\n",
    "    for i in range(k):\n",
    "        l = [j[i] for j in kmers]\n",
    "        score += (len(l)-max(l.count('A'),l.count('C'),l.count('G'),l.count('T')))\n",
    "    return score\n",
    "\n",
    "\n",
    "def most_probable(kmer,rest,k):\n",
    "    res = []\n",
    "    res.append(kmer)\n",
    "    for seq in rest:\n",
    "        pm = profile_matrix(res,k)\n",
    "        max_prob = -1*float('inf')\n",
    "        ans = ''\n",
    "        for i in range(len(seq)-k+1):\n",
    "            prob = probab(pm,seq[i:i+k])\n",
    "            if prob>max_prob:\n",
    "                max_prob = prob\n",
    "                ans = seq[i:i+k]\n",
    "        res.append(ans)\n",
    "    return res\n",
    "\n",
    "def ba2d(k,n,dna):\n",
    "    dna = dna.split('\\n')\n",
    "    template = dna[0]\n",
    "    rest = dna[1:n]\n",
    "    # find all the template kmers (all the kmers in the first line of the dna :3 ..)\n",
    "    all_temp = []\n",
    "    for i in range(len(template)-k+1):\n",
    "        all_temp.append(template[i:i+k])\n",
    "    # return all_temp\n",
    "    kmers = []\n",
    "    for kmer in all_temp:\n",
    "        target = most_probable(kmer,rest,k)\n",
    "        # print(target)\n",
    "        # target will be a array of kmer+n-1 other kmers\n",
    "        kmers.append(target)\n",
    "    # print(all_temp)\n",
    "    min_score = float('inf')\n",
    "    ans = ''\n",
    "    # print(kmers)\n",
    "    for target in kmers:\n",
    "        sc = score(target,k)\n",
    "        if sc < min_score:\n",
    "            min_score = sc\n",
    "            ans = target\n",
    "    return ans\n",
    "\n",
    "\n",
    "n = 5\n",
    "k = 3\n",
    "dna = '''GGCGTTCAGGCA\n",
    "AAGAATCAGTCA\n",
    "CAAGGAGTTCGC\n",
    "CACGTCAATCAC\n",
    "CAATAATATTCG'''\n",
    "\n",
    "for i in ba2d(k,n,dna):\n",
    "    print(i)"
   ]
  },
  {
   "cell_type": "markdown",
   "metadata": {},
   "source": [
    "# ba2f - Implement RandomizedMotifSearch"
   ]
  },
  {
   "cell_type": "code",
   "execution_count": 55,
   "metadata": {},
   "outputs": [],
   "source": [
    "# first select a kmers (array of kmer from every line randomly)\n",
    "# the calculate pm and probability for select the best from every line\n",
    "# then return that as new kmers\n",
    "# continue do it till getting the best score (minimum score)\n",
    "# if break before 1000 iter, do it again (store it)\n",
    "# use 1/4 type pseudo count"
   ]
  },
  {
   "cell_type": "code",
   "execution_count": 53,
   "metadata": {},
   "outputs": [
    {
     "name": "stdout",
     "output_type": "stream",
     "text": [
      "TCTCGGGG\n",
      "CCAAGGTG\n",
      "TACAGGCG\n",
      "TTCAGGTG\n",
      "TCCACGTG\n"
     ]
    }
   ],
   "source": [
    "import random\n",
    "\n",
    "def profile_matrix(kmers,k):\n",
    "    pm = {\n",
    "        'A':[1/4]*k,\n",
    "        'C':[1/4]*k,\n",
    "        'G':[1/4]*k,\n",
    "        'T':[1/4]*k\n",
    "    }\n",
    "    for kmer in kmers:\n",
    "        for i in range(len(kmer)):\n",
    "            pm[kmer[i]][i] += 1/len(kmers)\n",
    "    return pm\n",
    "\n",
    "def probability(kmer,pm):\n",
    "    pro = 1\n",
    "    for i in range(len(kmer)):\n",
    "          pro *= pm[kmer[i]][i]\n",
    "    return pro\n",
    "\n",
    "def update_kmers(dna,pm,k):\n",
    "    up_kmers = []\n",
    "    for seq in dna:\n",
    "        max_pro = -1*float('inf')\n",
    "        ans = ''\n",
    "        for i in range(len(seq)-k+1):\n",
    "            pro = probability(seq[i:i+k],pm)\n",
    "            if pro>max_pro:\n",
    "                max_pro=pro\n",
    "                ans = seq[i:i+k]\n",
    "        up_kmers.append(ans)\n",
    "    return up_kmers\n",
    "\n",
    "def score(kmers,k):\n",
    "    score = 0\n",
    "    for i in range(k):\n",
    "        l = [j[i] for j in kmers]\n",
    "        score += (len(l)-max(l.count('A'),l.count('C'),l.count('G'),l.count('T')))\n",
    "    return score\n",
    "\n",
    "\n",
    "def ba2e(dna,k,n):\n",
    "    dna = dna.split('\\n')\n",
    "    ans_tl = []\n",
    "    for itter in range(1001):\n",
    "        kmers = []\n",
    "        for seq in dna:\n",
    "                i = random.choice(range(0,k))\n",
    "                kmers.append(seq[i:i+k])\n",
    "        best_score = float('inf')\n",
    "        ans = ''\n",
    "        while True:\n",
    "            pm = profile_matrix(kmers,k)\n",
    "            kmers = update_kmers(dna,pm,k)\n",
    "            sc = score(kmers,k)\n",
    "            if sc<best_score:\n",
    "                best_score=sc\n",
    "                ans = kmers\n",
    "            else:\n",
    "                break\n",
    "        ans_tl.append((ans,best_score))\n",
    "    # return ans_tl\n",
    "    mini = float('inf')\n",
    "    ans = ''\n",
    "    for i in ans_tl:\n",
    "        if i[1]<mini:\n",
    "            mini=i[1]\n",
    "            ans = i[0]\n",
    "    return ans\n",
    "\n",
    "    \n",
    "    \n",
    "            \n",
    "\n",
    "n = 5\n",
    "k = 8\n",
    "\n",
    "dna = '''CGCCCCTCTCGGGGGTGTTCAGTAAACGGCCA\n",
    "GGGCGAGGTATGTGTAAGTGCCAAGGTGCCAG\n",
    "TAGTACCGAGACCGAAAGAAGTATACAGGCGT\n",
    "TAGATCAAGTTTCAGGTGCACGTCGGTGAACC\n",
    "AATCCACCAGCTCCACGTGCAATGTTGGCCTA'''\n",
    "\n",
    "for i in ba2e(dna,k,n):\n",
    "    print(i)"
   ]
  },
  {
   "cell_type": "markdown",
   "metadata": {},
   "source": [
    "# ba2g - Implement GibbsSampler"
   ]
  },
  {
   "cell_type": "code",
   "execution_count": 65,
   "metadata": {},
   "outputs": [],
   "source": [
    "# NO NEED ..."
   ]
  },
  {
   "cell_type": "markdown",
   "metadata": {},
   "source": [
    "# ba2h - Implement DistanceBetweenPatternAndStrings"
   ]
  },
  {
   "cell_type": "code",
   "execution_count": 63,
   "metadata": {},
   "outputs": [
    {
     "data": {
      "text/plain": [
       "68"
      ]
     },
     "execution_count": 63,
     "metadata": {},
     "output_type": "execute_result"
    }
   ],
   "source": [
    "# sum of min hamming distance in all the seq\n",
    "\n",
    "def hamming_distance(s,t):\n",
    "    count = 0\n",
    "    for i,j in zip(s,t):\n",
    "        count += i!=j\n",
    "    return count\n",
    "\n",
    "def ba2h(kmer,dna):\n",
    "    dna = dna.split(' ')\n",
    "    l = []\n",
    "    for seq in dna:\n",
    "        min_hd = float('inf')\n",
    "        for i in range(len(seq)-len(kmer)+1):\n",
    "            hd = hamming_distance(seq[i:i+len(kmer)],kmer)\n",
    "            if hd<min_hd:\n",
    "                min_hd = hd\n",
    "        l.append(min_hd)\n",
    "    return sum(l)\n",
    "\n",
    "kmer = 'ACTGCGT'\n",
    "dna = 'GACCATGCACCTTTTGGCGTCGTCCAAATTGCCAGAGGTTTTAAATCACCGGACCGCCCTTTGAGGACGGCTTTGTGATTATCACTTTGGACGCCCAACGAATATGAGA GTTGCGTGCATAGTTGTATAATTAAGTGGTATAGCACGAAAATCACGAGACCTCGGTGTTGCATCTACCCATTGCCTGGGGCGAACCTGTGTATCTCTGGCCACACACA CGAGCGAGAGACTCCCCTGTCAACTCGCGACAGTAAGATACATAAAGCCACCACCTCCATGTGGCTAAAGTCAGCCATTTATACGGGTAGATCATATGCAGACAGCGTG GAGGTTGGGTCCATTGAATTCCCGGACTTTCCTCGTTATACGAATGATAACGCGAATGCAAATTTGGTCGGCTAAGTAGTAGCTAGACGAAAAATTGTTAGCCCGTCGA AGCTCCACCAGCATGATTAGACACAAGCCCGGAAACAGGACCGAATAACGTGAATACAAGCGGTCGTCTAAGAAGGTTGTGACAAGTATTTTGTAGATCGGGAGGTACA CGACAGGCCTTCTAAATTGTTTAAAGGCCGCACGTGGGTAAATTACGCCCTCTAGCTATTGAGCAACCCAGAATGCCGGGTAGATGACGATCTCCTCACGTATCGCACA TGAACAATGCAGAGCCATTTCTGGATTTTATCCTCTCTCGCATATAACGGGTGGACACCTAATGGCCACGAAATCGTATGATAGTTTTCTGAAGTGTCAGCTATTTGCG TGCCGCGAGAGAGGCCACCCACGTCTCGCCCCGGGATCGACGATGATTATTCCGGTACCAAGGTTGTTTCAAATTTCTGACTCCCCCTATACTATGAGCCAACATCATT CGCAGGGACCAGCCGGACATAATGAGCTCCACGGCGCGCTTTAGTTGCGGGCCGGGGGTGCTATCCATGGTTGTTCACGGTATGCGAGCAGAGGACTGAACGCATTAGG AACTGCAAGAGAGAGTTCCTCCCAAGGATCCGTGTTGAGTTAACCAGGTCTCTCTTTGAATCCCTGGCCGGCGCCGTTAATCGACCGAGCCCACGTGTGGCTGACGCAC ACCTTTTGCACTGTTCGTGTATCATAGAGTACCTGGCCTCGAGAGCGTTGCAGCGGGACAGAGTGATTCTACATGCGGACCTGGACACCGATGTAGTCTGCCTTAATCA CCCAGGAAAGCCGAGCTGGACCAGCCCGCAACCCGGATGTCCAACACGTTGTAGCTGGATTGGAGCCGCTGAAGACCAATATTTTCTCCCCAGCCCGGCAAGGTTGAAC ACCCCTTGAACTACGTTAATGGGCGGCCAAGAACTGCTTAAGAAAAGCATACTCGCAATTCAGCGTTGCGGCCCGCAGAGATGTTAAGAGGAATTTCTAAGAGGGACTG GCTCGAGAGCTACCGCTTAAAAGCAGACCCAAGTCTACAATTCTATCTATATTCCACCATGATCCGGGTCGACGGATTGGGCGAGCGGTCAGGGAACGGTTGTATAGGT GACCCGTATGCTCGATCTTACAACGTATTAATGCGTGGGAGAGCGAAATCTGAGATGTGCGGTTAGGTGGCTTAGACGCAGATCCAGTGCAAGCGGATACGAACGGCAA GCGCTGGGACGAGCCACCGGTTATAACGCAGAGACCGGAACCCACGGATATTACACTGCCGAGGAGCTGTAACAGCCGAAAGCCCGAACGGCTAAAACTCGGATTGTGG TCGTAGCCCTCTTGCGGGGTGTTCGGCACGAAGAGCGATCTGAGTCAGGACGCGATCACCGCACGACTTAATCCCGCCTTTTAAAATGCCTTACTTTCACACTAGGCTT GTAGTAGCCAGTTGGGTAAAATGAGATGTGCGATCTGTCTCCACGAGTGACGATTTAGAGCCACAACCACCAAATGGACCCCCGGGGGTATTTCGCAACATGGCTACCC GAGACGAATTAATCTGCGACGCCCCAGAGTCTCTACCGGAAGCGATGCTCAACTTTTTGCCTCCGGTGTAGTTATCGCATTACCCCGGAAAATCGTTCACGACGGCGTA TTAATCAAAGCTGGGGGCAGCGATGTCCGGGGATTATGGCACTCCGGTCATGCTGCCCGGGCTGCTCGTTTGTGTACTCCTGTCGATAGGTCTACTTTATACCCAACTG GCACTCGTCTAGCCTAAGTTAGTTCATGCCAACCTCACACGTGGGTCCCCGAAGGATGCAATGACTGACTTAACATCAAAAGCTAGGCACTCGGACATCCCGTTTTGGT TACACACATTTTCAGGCATTCATCTGGTCAATGTAACAGAAACGCCGTTCTGTTAAAAGCGCCCTGATTCGTAACGTACAACTACCATTGACCACAAACCGTGACAATA GGTGTGGGAGCTGTTTGACCCTGAATGTGGCCCCTGTGAAATTTACCGTACCACATTGCCACCAAACCAGAAAGTCCACTGGGATACTCTATGCGTAGGAGGTTTGTTG TCCCTAACCCTAGCGACTGAGGCTCAGCAGAGTTTTAAGGAGTTCCTCGCCCTGTTAATGTATTATTACGTAAGTTTCAAGAAAGGTTCGAGGATTACGTTCGTCCCGC TGCCGGCGCGCAAGCCTTCCACCATCGCGTCTTTTATAGGAACTAGTCCCGTCAGCGCGGGTTTACAACGAAGCGCACCGAACATCCGCCAGGGCGTTAGTCGGCATGA CTGGGATTGCTCCAGTCCCCACGTAATAAGAAGTCCGGGACGTGAACGTAGTCATCAGACCTCCGCATACAAAGTCTTGTGATGCAGTATGCGAGTCCCGGCATCTGTT GGTGTGACGGTGGGGCATTTAACAGAATAAGCAGTATCCCCGTTCCTAGGTAGGCTATGTCGACACCACGAGTGGCCCACCGAAATTAGTTCAAGGTGGTGAAGTAGTC TGTGGATCGGTAGCCGGGTGAACGTTGAAAGACTGACCCTTGGTGTCCGCTTCCCGACTACACACAGCAAACATATCTCAATGTAAGGGAGAGCGTACCAAGCCGACCT GCATCCGGAATGAATAAGTTGAATTGATTTCTCTTCTACCGGTGCCCTAAGCGAACACTCGTCGGCGGCAGTACCACCCTGTGAGTATCCGATTTGCTTCCGTTGTGAA CGCACGATATTGCTGGGACATGACATGATTGATCCGCCCCAATTTATCTGGTAGTAGATACCCAGCCGGTGGATGGCAGCCGCTTCAGATCATATGGGTCTACGTTGAG GTGCTGGTAGCATGGTCGACACAATGTATGTGTCTGGGCGATGAGCCAGACGGCCGCTCTTCGTAGATCGTCGCGCGTGGTCATCATACAGTAAGCTCCAGTCACTCAG'\n",
    "ba2h(kmer,dna)"
   ]
  }
 ],
 "metadata": {
  "kernelspec": {
   "display_name": "Python 3",
   "language": "python",
   "name": "python3"
  },
  "language_info": {
   "codemirror_mode": {
    "name": "ipython",
    "version": 3
   },
   "file_extension": ".py",
   "mimetype": "text/x-python",
   "name": "python",
   "nbconvert_exporter": "python",
   "pygments_lexer": "ipython3",
   "version": "3.10.12"
  }
 },
 "nbformat": 4,
 "nbformat_minor": 2
}
